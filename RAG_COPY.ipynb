{
  "nbformat": 4,
  "nbformat_minor": 0,
  "metadata": {
    "colab": {
      "provenance": [],
      "gpuType": "T4",
      "authorship_tag": "ABX9TyObL4J5PVner0IhVg/2Vppu",
      "include_colab_link": true
    },
    "kernelspec": {
      "name": "python3",
      "display_name": "Python 3"
    },
    "language_info": {
      "name": "python"
    },
    "accelerator": "GPU"
  },
  "cells": [
    {
      "cell_type": "markdown",
      "metadata": {
        "id": "view-in-github",
        "colab_type": "text"
      },
      "source": [
        "<a href=\"https://colab.research.google.com/github/dhinesh2022h/chatbox1/blob/main/RAG_COPY.ipynb\" target=\"_parent\"><img src=\"https://colab.research.google.com/assets/colab-badge.svg\" alt=\"Open In Colab\"/></a>"
      ]
    },
    {
      "cell_type": "code",
      "source": [
        "!pip -qqq install pip --progress-bar off\n",
        "!pip -qqq install langchain-groq==0.1.3 --progress-bar off\n",
        "!pip -qqq install langchain==0.1.17 --progress-bar off\n",
        "!pip -qqq install llama-parse==0.1.3 --progress-bar off\n",
        "!pip -qqq install qdrant-client==1.9.1  --progress-bar off\n",
        "!pip -qqq install \"unstructured[md]\"==0.13.6 --progress-bar off\n",
        "!pip -qqq install fastembed==0.2.7 --progress-bar off\n",
        "!pip -qqq install flashrank==0.2.4 --progress-bar off"
      ],
      "metadata": {
        "colab": {
          "base_uri": "https://localhost:8080/"
        },
        "id": "oZCoKAp0W0iR",
        "outputId": "d7674ce3-a15e-4fb4-8e71-a07da6e9dde7"
      },
      "execution_count": 1,
      "outputs": [
        {
          "output_type": "stream",
          "name": "stdout",
          "text": [
            "\u001b[31mERROR: pip's dependency resolver does not currently take into account all the packages that are installed. This behaviour is the source of the following dependency conflicts.\n",
            "cudf-cu12 24.4.1 requires protobuf<5,>=3.20, but you have protobuf 5.28.2 which is incompatible.\n",
            "google-ai-generativelanguage 0.6.6 requires protobuf!=3.20.0,!=3.20.1,!=4.21.0,!=4.21.1,!=4.21.2,!=4.21.3,!=4.21.4,!=4.21.5,<5.0.0dev,>=3.19.5, but you have protobuf 5.28.2 which is incompatible.\n",
            "google-cloud-datastore 2.19.0 requires protobuf!=3.20.0,!=3.20.1,!=4.21.0,!=4.21.1,!=4.21.2,!=4.21.3,!=4.21.4,!=4.21.5,<5.0.0dev,>=3.19.5, but you have protobuf 5.28.2 which is incompatible.\n",
            "google-cloud-firestore 2.16.1 requires protobuf!=3.20.0,!=3.20.1,!=4.21.0,!=4.21.1,!=4.21.2,!=4.21.3,!=4.21.4,!=4.21.5,<5.0.0dev,>=3.19.5, but you have protobuf 5.28.2 which is incompatible.\n",
            "tensorboard 2.17.0 requires protobuf!=4.24.0,<5.0.0,>=3.19.6, but you have protobuf 5.28.2 which is incompatible.\n",
            "tensorflow 2.17.0 requires protobuf!=4.21.0,!=4.21.1,!=4.21.2,!=4.21.3,!=4.21.4,!=4.21.5,<5.0.0dev,>=3.20.3, but you have protobuf 5.28.2 which is incompatible.\n",
            "tensorflow-metadata 1.15.0 requires protobuf<4.21,>=3.20.3; python_version < \"3.11\", but you have protobuf 5.28.2 which is incompatible.\u001b[0m\u001b[31m\n",
            "\u001b[0m  Preparing metadata (setup.py) ... \u001b[?25l\u001b[?25hdone\n",
            "  Building wheel for langdetect (setup.py) ... \u001b[?25l\u001b[?25hdone\n",
            "\u001b[31mERROR: pip's dependency resolver does not currently take into account all the packages that are installed. This behaviour is the source of the following dependency conflicts.\n",
            "accelerate 0.34.2 requires huggingface-hub>=0.21.0, but you have huggingface-hub 0.20.3 which is incompatible.\n",
            "transformers 4.44.2 requires huggingface-hub<1.0,>=0.23.2, but you have huggingface-hub 0.20.3 which is incompatible.\n",
            "transformers 4.44.2 requires tokenizers<0.20,>=0.19, but you have tokenizers 0.15.2 which is incompatible.\u001b[0m\u001b[31m\n",
            "\u001b[0m  Installing build dependencies ... \u001b[?25l\u001b[?25hdone\n",
            "  Getting requirements to build wheel ... \u001b[?25l\u001b[?25hdone\n",
            "  Installing backend dependencies ... \u001b[?25l\u001b[?25hdone\n",
            "  Preparing metadata (pyproject.toml) ... \u001b[?25l\u001b[?25hdone\n",
            "  Building wheel for llama-cpp-python (pyproject.toml) ... \u001b[?25l\u001b[?25hdone\n"
          ]
        }
      ]
    },
    {
      "cell_type": "code",
      "source": [
        "import os\n",
        "import textwrap\n",
        "from pathlib import Path\n",
        "\n",
        "from google.colab import userdata\n",
        "from IPython.display import Markdown\n",
        "from langchain.chains import RetrievalQA\n",
        "from langchain.prompts import PromptTemplate\n",
        "from langchain.retrievers import ContextualCompressionRetriever\n",
        "from langchain.retrievers.document_compressors import FlashrankRerank\n",
        "from langchain.text_splitter import RecursiveCharacterTextSplitter\n",
        "from langchain.vectorstores import Qdrant\n",
        "from langchain_community.document_loaders import UnstructuredMarkdownLoader\n",
        "from langchain_community.embeddings.fastembed import FastEmbedEmbeddings\n",
        "from langchain_core.prompts import ChatPromptTemplate\n",
        "from langchain_groq import ChatGroq\n",
        "from llama_parse import LlamaParse\n",
        "\n",
        "os.environ[\"GROQ_API_KEY\"] = \"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\" #CHANGE API KEY, USE YOUR OWN\n",
        "\n",
        "\n",
        "def print_response(response):\n",
        "    response_txt = response[\"result\"]\n",
        "    for chunk in response_txt.split(\"\\n\"):\n",
        "        if not chunk:\n",
        "            print()\n",
        "            continue\n",
        "        print(\"\\n\".join(textwrap.wrap(chunk, 100, break_long_words=False)))"
      ],
      "metadata": {
        "id": "MSmDVL_tX_TU"
      },
      "execution_count": null,
      "outputs": []
    },
    {
      "cell_type": "code",
      "source": [
        "!mkdir data\n",
        "!gdown 18ODzbpu4bugyitbxqExsDyOCC2tS7BNj -O \"data/rpp.pdf\""
      ],
      "metadata": {
        "id": "LHmhrV_xYGGM"
      },
      "execution_count": null,
      "outputs": []
    },
    {
      "cell_type": "code",
      "source": [
        "import os\n",
        "\n",
        "# Replace 'your_llama_parse_api_key_here' with your actual LLAMA_PARSE API key\n",
        "os.environ[\"LLAMA_PARSE_API_KEY\"] = \"llx-lbjHUrKtdjTCfGU63zizgSlnY7innSdf9RfUPgfMpLtutE0L\"   #CHANGE API KEY USE YOUR OWN !!!!+"
      ],
      "metadata": {
        "id": "xC0eJEN_YI9j"
      },
      "execution_count": null,
      "outputs": []
    },
    {
      "cell_type": "code",
      "source": [
        "# instruction = \"\"\"The provided document is NVIDIA's First Quarter Fiscal 2024 Financial Results.\n",
        "# This is a press release that provides detailed financial information about NVIDIA's performance for the first quarter of its fiscal year 2024.\n",
        "# It includes unaudited financial statements, management's commentary, highlights of key developments, and disclosures related to NVIDIA's outlook for the next quarter.\n",
        "#  The document contains many financial tables and figures. Try to be precise while answering questions based on the information in this press release.\"\"\"\n",
        "\n",
        "instruction = \"\"\"The provided document contains detailed financial information, including unaudited financial statements, management commentary, key highlights, and outlook disclosures related to a company's performance for a specific fiscal period. The document may contain various financial tables, figures, and data points. When answering questions based on the information in this document, strive to provide accurate and precise\n",
        "responses by carefully referencing the relevant data and details presented in the document.\"\"\"\n",
        "\n",
        "parser = LlamaParse(\n",
        "    api_key=os.getenv(\"LLAMA_PARSE_API_KEY\"),\n",
        "    result_type=\"markdown\",\n",
        "    parsing_instruction=instruction,\n",
        "    max_timeout=5000,\n",
        ")\n",
        "\n",
        "llama_parse_documents = await parser.aload_data(\"./data/rpp.pdf\")"
      ],
      "metadata": {
        "id": "LPqOk7lvYNxF"
      },
      "execution_count": null,
      "outputs": []
    },
    {
      "cell_type": "code",
      "source": [
        "parsed_doc = llama_parse_documents[0]"
      ],
      "metadata": {
        "id": "MyZUdqDHYXOB"
      },
      "execution_count": null,
      "outputs": []
    },
    {
      "cell_type": "code",
      "source": [
        "Markdown(parsed_doc.text[:4096])"
      ],
      "metadata": {
        "id": "-MXzqdfGYZUp"
      },
      "execution_count": null,
      "outputs": []
    },
    {
      "cell_type": "markdown",
      "source": [
        "NVIDIA Announces Financial Results for First Quarter Fiscal 2024\n",
        "Quarterly revenue of $7.19 billion, up 19% from previous quarter\n",
        "\n",
        "Record Data Center revenue of $4.28 billion\n",
        "\n",
        "Second quarter fiscal 2024 revenue outlook of $11.00 billion\n",
        "\n",
        "NVIDIA (NASDAQ: NVDA) today reported revenue for the first quarter ended April 30, 2023, of $7.19 billion, down 13% from a year ago and up 19% from the previous quarter.\n",
        "\n",
        "GAAP earnings per diluted share for the quarter were\n",
        "0.82\n",
        ",\n",
        "u\n",
        "p\n",
        "28\n",
        "0.82,up281.09, down 20% from a year ago and up 24% from the previous quarter.\n",
        "\n",
        "“The computer industry is going through two simultaneous transitions — accelerated computing and generative AI,” said Jensen Huang, founder and CEO of NVIDIA.\n",
        "\n",
        "“A trillion dollars of installed global data center infrastructure will transition from general purpose to accelerated computing as companies race to apply generative AI into every product, service and business process.\n",
        "\n",
        "“Our entire data center family of products — H100, Grace CPU, Grace Hopper Superchip, NVLink, Quantum 400 InfiniBand and BlueField-3 DPU — is in production. We are significantly increasing our supply to meet surging demand for them,” he said.\n",
        "\n",
        "During the first quarter of fiscal 2024, NVIDIA returned to shareholders $99 million in cash dividends.\n",
        "\n",
        "NVIDIA will pay its next quarterly cash dividend of $0.04 per share on June 30, 2023, to all shareholders of record on June 8, 2023.\n",
        "\n",
        "Q1 Fiscal 2024 Summary\n",
        "|GAAP|(\n",
        "i\n",
        "n\n",
        "m\n",
        "i\n",
        "l\n",
        "l\n",
        "i\n",
        "o\n",
        "n\n",
        "s\n",
        ",\n",
        "e\n",
        "x\n",
        "c\n",
        "e\n",
        "p\n",
        "t\n",
        "e\n",
        "a\n",
        "r\n",
        "n\n",
        "i\n",
        "n\n",
        "g\n",
        "s\n",
        "p\n",
        "e\n",
        "r\n",
        "s\n",
        "h\n",
        "a\n",
        "r\n",
        "e\n",
        ")\n",
        "∣\n",
        "∣\n",
        "∣\n",
        "∣\n",
        "∣\n",
        "∣\n",
        "−\n",
        "−\n",
        "−\n",
        "∣\n",
        "−\n",
        "−\n",
        "−\n",
        "∣\n",
        "−\n",
        "−\n",
        "−\n",
        "∣\n",
        "−\n",
        "−\n",
        "−\n",
        "∣\n",
        "−\n",
        "−\n",
        "−\n",
        "∣\n",
        "−\n",
        "−\n",
        "−\n",
        "∣\n",
        "∣\n",
        "∣\n",
        "Q\n",
        "1\n",
        "F\n",
        "Y\n",
        "24\n",
        "∣\n",
        "Q\n",
        "4\n",
        "F\n",
        "Y\n",
        "23\n",
        "∣\n",
        "Q\n",
        "1\n",
        "F\n",
        "Y\n",
        "23\n",
        "∣\n",
        "Q\n",
        "/\n",
        "Q\n",
        "∣\n",
        "Y\n",
        "/\n",
        "Y\n",
        "∣\n",
        "∣\n",
        "R\n",
        "e\n",
        "v\n",
        "e\n",
        "n\n",
        "u\n",
        "e\n",
        "∣\n",
        "inmillions,exceptearningspershare)∣∣∣∣∣∣−−−∣−−−∣−−−∣−−−∣−−−∣−−−∣∣∣Q1FY24∣Q4FY23∣Q1FY23∣Q/Q∣Y/Y∣∣Revenue∣ 7,192|\n",
        "6\n",
        ",\n",
        "051\n",
        "∣\n",
        "6,051∣ 8,288|Up 19%|Down 13%| |Gross margin|64.6%|63.3%|65.5%|Up 1.3 pts|Down 0.9 pts| |Operating expenses|\n",
        "2\n",
        ",\n",
        "508\n",
        "∣\n",
        "2,508∣ 2,576|\n",
        "3\n",
        ",\n",
        "563\n",
        "∣\n",
        "D\n",
        "o\n",
        "w\n",
        "n\n",
        "3\n",
        "∣\n",
        "O\n",
        "p\n",
        "e\n",
        "r\n",
        "a\n",
        "t\n",
        "i\n",
        "n\n",
        "g\n",
        "i\n",
        "n\n",
        "c\n",
        "o\n",
        "m\n",
        "e\n",
        "∣\n",
        "3,563∣Down3∣Operatingincome∣ 2,140|\n",
        "1\n",
        ",\n",
        "257\n",
        "∣\n",
        "1,257∣ 1,868|Up 70%|Up 15%| |Net income|\n",
        "2\n",
        ",\n",
        "043\n",
        "∣\n",
        "2,043∣ 1,414|\n",
        "1\n",
        ",\n",
        "618\n",
        "∣\n",
        "U\n",
        "p\n",
        "44\n",
        "∣\n",
        "D\n",
        "i\n",
        "l\n",
        "u\n",
        "t\n",
        "e\n",
        "d\n",
        "e\n",
        "a\n",
        "r\n",
        "n\n",
        "i\n",
        "n\n",
        "g\n",
        "s\n",
        "p\n",
        "e\n",
        "r\n",
        "s\n",
        "h\n",
        "a\n",
        "r\n",
        "e\n",
        "∣\n",
        "1,618∣Up44∣Dilutedearningspershare∣ 0.82|\n",
        "0.57\n",
        "∣\n",
        "0.57∣ 0.64|Up 44%|Up 28%|\n",
        "\n",
        "|Non-GAAP|(\n",
        "i\n",
        "n\n",
        "m\n",
        "i\n",
        "l\n",
        "l\n",
        "i\n",
        "o\n",
        "n\n",
        "s\n",
        ",\n",
        "e\n",
        "x\n",
        "c\n",
        "e\n",
        "p\n",
        "t\n",
        "e\n",
        "a\n",
        "r\n",
        "n\n",
        "i\n",
        "n\n",
        "g\n",
        "s\n",
        "p\n",
        "e\n",
        "r\n",
        "s\n",
        "h\n",
        "a\n",
        "r\n",
        "e\n",
        ")\n",
        "∣\n",
        "(\n",
        "inmillions,exceptearningspershare)∣( in millions, except earnings per share)|(\n",
        "i\n",
        "n\n",
        "m\n",
        "i\n",
        "l\n",
        "l\n",
        "i\n",
        "o\n",
        "n\n",
        "s\n",
        ",\n",
        "e\n",
        "x\n",
        "c\n",
        "e\n",
        "p\n",
        "t\n",
        "e\n",
        "a\n",
        "r\n",
        "n\n",
        "i\n",
        "n\n",
        "g\n",
        "s\n",
        "p\n",
        "e\n",
        "r\n",
        "s\n",
        "h\n",
        "a\n",
        "r\n",
        "e\n",
        ")\n",
        "∣\n",
        "(\n",
        "inmillions,exceptearningspershare)∣( in millions, except earnings per share)| | | | | |---|---|---|---|---|---| |Q1 FY24|Q4 FY23|Q1 FY23|Q/Q|Y/Y| | |Revenue|\n",
        "7\n",
        ",\n",
        "192\n",
        "∣\n",
        "7,192∣ 6,051|\n",
        "8\n",
        ",\n",
        "288\n",
        "∣\n",
        "U\n",
        "p\n",
        "19\n",
        "∣\n",
        "G\n",
        "r\n",
        "o\n",
        "s\n",
        "s\n",
        "m\n",
        "a\n",
        "r\n",
        "g\n",
        "i\n",
        "n\n",
        "∣\n",
        "66.8\n",
        "∣\n",
        "O\n",
        "p\n",
        "e\n",
        "r\n",
        "a\n",
        "t\n",
        "i\n",
        "n\n",
        "g\n",
        "e\n",
        "x\n",
        "p\n",
        "e\n",
        "n\n",
        "s\n",
        "e\n",
        "s\n",
        "∣\n",
        "8,288∣Up19∣Grossmargin∣66.8∣Operatingexpenses∣ 1,750|\n",
        "1\n",
        ",\n",
        "775\n",
        "∣\n",
        "1,775∣ 1,608|Down 1%|Up 9%| |Operating income|\n",
        "3\n",
        ",\n",
        "052\n",
        "∣\n",
        "3,052∣ 2,224|\n",
        "3\n",
        ",\n",
        "955\n",
        "∣\n",
        "U\n",
        "p\n",
        "37\n",
        "∣\n",
        "N\n",
        "e\n",
        "t\n",
        "i\n",
        "n\n",
        "c\n",
        "o\n",
        "m\n",
        "e\n",
        "∣\n",
        "3,955∣Up37∣Netincome∣ 2,713|\n",
        "2\n",
        ",\n",
        "174\n",
        "∣\n",
        "2,174∣ 3,443|Up 25%|Down 21%| |Diluted earnings per share|\n",
        "1.09\n",
        "∣\n",
        "1.09∣ 0.88|$ 1.36|Up 24%|Down 20%|\n",
        "\n",
        "Outlook\n",
        "NVIDIA’s outlook for the second quarter of fiscal 2024 is as follows:\n",
        "Financial Overview\n",
        "Revenue is expected to be\n",
        "11.00\n",
        "b\n",
        "i\n",
        "l\n",
        "l\n",
        "i\n",
        "o\n",
        "n\n",
        ",\n",
        "p\n",
        "l\n",
        "u\n",
        "s\n",
        "o\n",
        "r\n",
        "m\n",
        "i\n",
        "n\n",
        "u\n",
        "s\n",
        "2\n",
        "11.00billion,plusorminus22.71 billion and\n",
        "1.90\n",
        "b\n",
        "i\n",
        "l\n",
        "l\n",
        "i\n",
        "o\n",
        "n\n",
        ",\n",
        "r\n",
        "e\n",
        "s\n",
        "p\n",
        "e\n",
        "c\n",
        "t\n",
        "i\n",
        "v\n",
        "e\n",
        "l\n",
        "y\n",
        ".\n",
        "G\n",
        "A\n",
        "A\n",
        "P\n",
        "a\n",
        "n\n",
        "d\n",
        "n\n",
        "o\n",
        "n\n",
        "−\n",
        "G\n",
        "A\n",
        "A\n",
        "P\n",
        "o\n",
        "t\n",
        "h\n",
        "e\n",
        "r\n",
        "i\n",
        "n\n",
        "c\n",
        "o\n",
        "m\n",
        "e\n",
        "a\n",
        "n\n",
        "d\n",
        "e\n",
        "x\n",
        "p\n",
        "e\n",
        "n\n",
        "s\n",
        "e\n",
        "a\n",
        "r\n",
        "e\n",
        "e\n",
        "x\n",
        "p\n",
        "e\n",
        "c\n",
        "t\n",
        "e\n",
        "d\n",
        "t\n",
        "o\n",
        "b\n",
        "e\n",
        "a\n",
        "n\n",
        "i\n",
        "n\n",
        "c\n",
        "o\n",
        "m\n",
        "e\n",
        "o\n",
        "f\n",
        "a\n",
        "p\n",
        "p\n",
        "r\n",
        "o\n",
        "x\n",
        "i\n",
        "m\n",
        "a\n",
        "t\n",
        "e\n",
        "l\n",
        "y\n",
        "1.90billion,respectively.GAAPandnon−GAAPotherincomeandexpenseareexpectedtobeanincomeofapproximately90 million, excluding gains and losses from non-affiliated investments. GAAP and non-GAAP tax rates are expected to be 14.0%, plus or minus 1%, excluding any discrete items.\n",
        "\n",
        "Highlights\n",
        "Data Center\n",
        "First-quarter revenue was a record $4.28 billion, up 14% from a year ago and up 18% from the previous quarter. Launched four inference platforms that combine the company’s full-stack inference software with the latest NVIDIA Ada, NVIDIA Hopper™ and NVIDIA Grace Hopper™ processors. Announced that Google Cloud is the first cloud provider offering the new NVIDIA L4 Tensor Core GPU to accelerate generative AI applications. Introduced NVIDIA AI Foundations to help businesses create and operate custom large language models and generative AI models trained with their own proprietary data for domain-specific tasks. Unveiled the NVIDIA cuLitho software library for computational lithography to accelerate the design and manufacturing of next-gen semiconductors. Expanded its partners offering new products and s"
      ],
      "metadata": {
        "id": "smo7nRJBYh0m"
      }
    },
    {
      "cell_type": "code",
      "source": [
        "document_path = Path(\"data/parsed_document.md\")\n",
        "with document_path.open(\"a\") as f:\n",
        "    f.write(parsed_doc.text)"
      ],
      "metadata": {
        "id": "HsvPQpM4YbyX"
      },
      "execution_count": null,
      "outputs": []
    },
    {
      "cell_type": "code",
      "source": [
        "loader = UnstructuredMarkdownLoader(document_path)\n",
        "loaded_documents = loader.load()"
      ],
      "metadata": {
        "id": "82yP9IUoYp1r"
      },
      "execution_count": null,
      "outputs": []
    },
    {
      "cell_type": "code",
      "source": [
        "text_splitter = RecursiveCharacterTextSplitter(chunk_size=2048, chunk_overlap=128)\n",
        "docs = text_splitter.split_documents(loaded_documents)\n",
        "len(docs)"
      ],
      "metadata": {
        "id": "a6b927L6Yu5b"
      },
      "execution_count": null,
      "outputs": []
    },
    {
      "cell_type": "code",
      "source": [
        "#Downloading embeddings\n",
        "embeddings = FastEmbedEmbeddings(model_name=\"BAAI/bge-base-en-v1.5\")"
      ],
      "metadata": {
        "id": "qlBci_ahYw2d"
      },
      "execution_count": null,
      "outputs": []
    },
    {
      "cell_type": "code",
      "source": [
        "qdrant = Qdrant.from_documents(\n",
        "    docs,\n",
        "    embeddings,\n",
        "    # location=\":memory:\",\n",
        "    path=\"./db\",\n",
        "    collection_name=\"document_embeddings\",\n",
        ")"
      ],
      "metadata": {
        "id": "lNtButOpZAFp"
      },
      "execution_count": null,
      "outputs": []
    },
    {
      "cell_type": "code",
      "source": [
        "%%time\n",
        "# query = \"What is the most important innovation from Nvidia?\"\n",
        "query = \"What is the most important innovation from Nvidia?\"\n",
        "similar_docs = qdrant.similarity_search_with_score(query)"
      ],
      "metadata": {
        "id": "GwfGJWv5ZDP9"
      },
      "execution_count": null,
      "outputs": []
    },
    {
      "cell_type": "code",
      "source": [
        "for doc, score in similar_docs:\n",
        "    print(f\"text: {doc.page_content[:256]}\\n\")\n",
        "    print(f\"score: {score}\")\n",
        "    print(\"-\" * 80)\n",
        "    print()"
      ],
      "metadata": {
        "id": "9XstwgAlZLE9"
      },
      "execution_count": null,
      "outputs": []
    },
    {
      "cell_type": "code",
      "source": [
        "%%time\n",
        "retriever = qdrant.as_retriever(search_kwargs={\"k\": 5})\n",
        "retrieved_docs = retriever.invoke(query)"
      ],
      "metadata": {
        "id": "VgGa8MoUZNDd"
      },
      "execution_count": null,
      "outputs": []
    },
    {
      "cell_type": "code",
      "source": [
        "for doc in retrieved_docs:\n",
        "    print(f\"id: {doc.metadata['_id']}\\n\")\n",
        "    print(f\"text: {doc.page_content[:256]}\\n\")\n",
        "    print(\"-\" * 80)\n",
        "    print()"
      ],
      "metadata": {
        "id": "ZCGOw5VLZOlr"
      },
      "execution_count": null,
      "outputs": []
    },
    {
      "cell_type": "code",
      "source": [
        "compressor = FlashrankRerank(model=\"ms-marco-MiniLM-L-12-v2\")\n",
        "compression_retriever = ContextualCompressionRetriever(\n",
        "    base_compressor=compressor, base_retriever=retriever\n",
        ")"
      ],
      "metadata": {
        "id": "7jtfnZT1ZQU7"
      },
      "execution_count": null,
      "outputs": []
    },
    {
      "cell_type": "code",
      "source": [
        "%%time\n",
        "reranked_docs = compression_retriever.invoke(query)\n",
        "len(reranked_docs)"
      ],
      "metadata": {
        "id": "TE-7sLGWZSaj"
      },
      "execution_count": null,
      "outputs": []
    },
    {
      "cell_type": "code",
      "source": [
        "for doc in reranked_docs:\n",
        "    print(f\"id: {doc.metadata['_id']}\\n\")\n",
        "    print(f\"text: {doc.page_content[:256]}\\n\")\n",
        "    print(f\"score: {doc.metadata['relevance_score']}\")\n",
        "    print(\"-\" * 80)\n",
        "    print()"
      ],
      "metadata": {
        "id": "RgZrRLXMZUEq"
      },
      "execution_count": null,
      "outputs": []
    },
    {
      "cell_type": "code",
      "source": [
        "llm = ChatGroq(temperature=0, model_name=\"llama3-70b-8192\")"
      ],
      "metadata": {
        "id": "ltvY8ycBZV5m"
      },
      "execution_count": null,
      "outputs": []
    },
    {
      "cell_type": "code",
      "source": [
        "prompt_template = \"\"\"\n",
        "Use the following pieces of information to answer the user's question.\n",
        "If you don't know the answer, just say that you don't know, don't try to make up an answer.\n",
        "\n",
        "Context: {context}\n",
        "Question: {question}\n",
        "\n",
        "Answer the question and provide additional helpful information,\n",
        "based on the pieces of information, if applicable. Be succinct.\n",
        "\n",
        "Responses should be properly formatted to be easily read.\n",
        "\"\"\"\n",
        "\n",
        "prompt = PromptTemplate(\n",
        "    template=prompt_template, input_variables=[\"context\", \"question\"]\n",
        ")"
      ],
      "metadata": {
        "id": "Wi8DLuqhZYE1"
      },
      "execution_count": null,
      "outputs": []
    },
    {
      "cell_type": "code",
      "source": [
        "qa = RetrievalQA.from_chain_type(\n",
        "    llm=llm,\n",
        "    chain_type=\"stuff\",\n",
        "    retriever=compression_retriever,\n",
        "    return_source_documents=True,\n",
        "    chain_type_kwargs={\"prompt\": prompt, \"verbose\": True},\n",
        ")"
      ],
      "metadata": {
        "id": "yIDrn9flZZZ_"
      },
      "execution_count": null,
      "outputs": []
    },
    {
      "cell_type": "code",
      "source": [
        "%%time\n",
        "response = qa.invoke(\"What is the most significant innovation from Nvidia?\")"
      ],
      "metadata": {
        "id": "umixvmMfZcix"
      },
      "execution_count": null,
      "outputs": []
    },
    {
      "cell_type": "code",
      "source": [
        "print_response(response)"
      ],
      "metadata": {
        "id": "08KnsxMAZeZe"
      },
      "execution_count": null,
      "outputs": []
    },
    {
      "cell_type": "code",
      "source": [
        "qa = RetrievalQA.from_chain_type(\n",
        "    llm=llm,\n",
        "    chain_type=\"stuff\",\n",
        "    retriever=compression_retriever,\n",
        "    return_source_documents=True,\n",
        "    chain_type_kwargs={\"prompt\": prompt, \"verbose\": False},\n",
        ")"
      ],
      "metadata": {
        "id": "pe6Fcll3ZgFn"
      },
      "execution_count": null,
      "outputs": []
    },
    {
      "cell_type": "code",
      "source": [
        "%%time\n",
        "response = qa.invoke(\"What is the revenue for 2024 and % change?\")"
      ],
      "metadata": {
        "id": "IfwfTxebZheg"
      },
      "execution_count": null,
      "outputs": []
    },
    {
      "cell_type": "code",
      "source": [
        "Markdown(response[\"result\"])"
      ],
      "metadata": {
        "id": "Qh21afqkZjRi"
      },
      "execution_count": null,
      "outputs": []
    },
    {
      "cell_type": "code",
      "source": [
        "%%time\n",
        "response = qa.invoke(\"What is the FY23?\")"
      ],
      "metadata": {
        "id": "Ic6HStDMZkzJ"
      },
      "execution_count": null,
      "outputs": []
    },
    {
      "cell_type": "code",
      "source": [
        "print_response(response)"
      ],
      "metadata": {
        "id": "eqSYqiyaZnr5"
      },
      "execution_count": null,
      "outputs": []
    },
    {
      "cell_type": "code",
      "source": [
        "%%time\n",
        "response = qa.invoke(\n",
        "    \"How much is the revenue minus the costs and expenses for 2024? Calculate the answer\"\n",
        ")"
      ],
      "metadata": {
        "colab": {
          "base_uri": "https://localhost:8080/",
          "height": 124
        },
        "id": "68RkvVN_ZqMM",
        "outputId": "05dfbc15-22f8-43e6-cdd5-24799c05e7f2"
      },
      "execution_count": 1,
      "outputs": [
        {
          "output_type": "error",
          "ename": "NameError",
          "evalue": "name 'qa' is not defined",
          "traceback": [
            "\u001b[0;31m---------------------------------------------------------------------------\u001b[0m",
            "\u001b[0;31mNameError\u001b[0m                                 Traceback (most recent call last)",
            "\u001b[0;32m<timed exec>\u001b[0m in \u001b[0;36m<module>\u001b[0;34m\u001b[0m\n",
            "\u001b[0;31mNameError\u001b[0m: name 'qa' is not defined"
          ]
        }
      ]
    },
    {
      "cell_type": "code",
      "source": [
        "print_response(response)"
      ],
      "metadata": {
        "id": "3_f1lzNaZsXy"
      },
      "execution_count": null,
      "outputs": []
    },
    {
      "cell_type": "code",
      "source": [
        "%%time\n",
        "response = qa.invoke(\"compare the Gross profit from 2022 and 2023?\")"
      ],
      "metadata": {
        "id": "L-3HqIrDZtag"
      },
      "execution_count": null,
      "outputs": []
    },
    {
      "cell_type": "code",
      "source": [
        "Markdown(response[\"result\"])"
      ],
      "metadata": {
        "id": "ZYLBGDxqZwQF"
      },
      "execution_count": null,
      "outputs": []
    },
    {
      "cell_type": "code",
      "source": [
        "%%time\n",
        "response = qa.invoke(\"what is the share holding of board of directors Mr. P Arulsundaram\")"
      ],
      "metadata": {
        "id": "RcCTR-O9Zyk8"
      },
      "execution_count": null,
      "outputs": []
    },
    {
      "cell_type": "code",
      "source": [
        "Markdown(response[\"result\"])"
      ],
      "metadata": {
        "id": "ep93YnCyaAh-"
      },
      "execution_count": null,
      "outputs": []
    }
  ]
}