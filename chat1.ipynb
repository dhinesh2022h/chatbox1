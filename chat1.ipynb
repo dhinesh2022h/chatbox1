{
  "nbformat": 4,
  "nbformat_minor": 0,
  "metadata": {
    "colab": {
      "provenance": [],
      "gpuType": "T4",
      "authorship_tag": "ABX9TyObL4J5PVner0IhVg/2Vppu",
      "include_colab_link": true
    },
    "kernelspec": {
      "name": "python3",
      "display_name": "Python 3"
    },
    "language_info": {
      "name": "python"
    },
    "accelerator": "GPU",
    "widgets": {
      "application/vnd.jupyter.widget-state+json": {
        "e69cbb569a70420e85263a6c775279e0": {
          "model_module": "@jupyter-widgets/controls",
          "model_name": "HBoxModel",
          "model_module_version": "1.5.0",
          "state": {
            "_dom_classes": [],
            "_model_module": "@jupyter-widgets/controls",
            "_model_module_version": "1.5.0",
            "_model_name": "HBoxModel",
            "_view_count": null,
            "_view_module": "@jupyter-widgets/controls",
            "_view_module_version": "1.5.0",
            "_view_name": "HBoxView",
            "box_style": "",
            "children": [
              "IPY_MODEL_08c928d2af274b5987cf47eb8abd0cfa",
              "IPY_MODEL_8cec04a8072040d88753ef71a0fe0b3e",
              "IPY_MODEL_956c5ccec5174e6084103ef576c66a31"
            ],
            "layout": "IPY_MODEL_311b2680f8264b7f90bd84801146bce9"
          }
        },
        "08c928d2af274b5987cf47eb8abd0cfa": {
          "model_module": "@jupyter-widgets/controls",
          "model_name": "HTMLModel",
          "model_module_version": "1.5.0",
          "state": {
            "_dom_classes": [],
            "_model_module": "@jupyter-widgets/controls",
            "_model_module_version": "1.5.0",
            "_model_name": "HTMLModel",
            "_view_count": null,
            "_view_module": "@jupyter-widgets/controls",
            "_view_module_version": "1.5.0",
            "_view_name": "HTMLView",
            "description": "",
            "description_tooltip": null,
            "layout": "IPY_MODEL_f0e2ec61176740e897c34d163793f872",
            "placeholder": "​",
            "style": "IPY_MODEL_98ddc6e167404e56bdc11f01881c5f12",
            "value": "Fetching 5 files: 100%"
          }
        },
        "8cec04a8072040d88753ef71a0fe0b3e": {
          "model_module": "@jupyter-widgets/controls",
          "model_name": "FloatProgressModel",
          "model_module_version": "1.5.0",
          "state": {
            "_dom_classes": [],
            "_model_module": "@jupyter-widgets/controls",
            "_model_module_version": "1.5.0",
            "_model_name": "FloatProgressModel",
            "_view_count": null,
            "_view_module": "@jupyter-widgets/controls",
            "_view_module_version": "1.5.0",
            "_view_name": "ProgressView",
            "bar_style": "success",
            "description": "",
            "description_tooltip": null,
            "layout": "IPY_MODEL_a07c5f04fe0e449c9266a4f439d5b0e6",
            "max": 5,
            "min": 0,
            "orientation": "horizontal",
            "style": "IPY_MODEL_b87aaa0e8dc94528a75fb75c620bf53f",
            "value": 5
          }
        },
        "956c5ccec5174e6084103ef576c66a31": {
          "model_module": "@jupyter-widgets/controls",
          "model_name": "HTMLModel",
          "model_module_version": "1.5.0",
          "state": {
            "_dom_classes": [],
            "_model_module": "@jupyter-widgets/controls",
            "_model_module_version": "1.5.0",
            "_model_name": "HTMLModel",
            "_view_count": null,
            "_view_module": "@jupyter-widgets/controls",
            "_view_module_version": "1.5.0",
            "_view_name": "HTMLView",
            "description": "",
            "description_tooltip": null,
            "layout": "IPY_MODEL_9e70a3d10d64420786d382b16e2fbc57",
            "placeholder": "​",
            "style": "IPY_MODEL_d0cf42030eb34a89a83fe88476aa2ee5",
            "value": " 5/5 [00:01&lt;00:00,  2.57it/s]"
          }
        },
        "311b2680f8264b7f90bd84801146bce9": {
          "model_module": "@jupyter-widgets/base",
          "model_name": "LayoutModel",
          "model_module_version": "1.2.0",
          "state": {
            "_model_module": "@jupyter-widgets/base",
            "_model_module_version": "1.2.0",
            "_model_name": "LayoutModel",
            "_view_count": null,
            "_view_module": "@jupyter-widgets/base",
            "_view_module_version": "1.2.0",
            "_view_name": "LayoutView",
            "align_content": null,
            "align_items": null,
            "align_self": null,
            "border": null,
            "bottom": null,
            "display": null,
            "flex": null,
            "flex_flow": null,
            "grid_area": null,
            "grid_auto_columns": null,
            "grid_auto_flow": null,
            "grid_auto_rows": null,
            "grid_column": null,
            "grid_gap": null,
            "grid_row": null,
            "grid_template_areas": null,
            "grid_template_columns": null,
            "grid_template_rows": null,
            "height": null,
            "justify_content": null,
            "justify_items": null,
            "left": null,
            "margin": null,
            "max_height": null,
            "max_width": null,
            "min_height": null,
            "min_width": null,
            "object_fit": null,
            "object_position": null,
            "order": null,
            "overflow": null,
            "overflow_x": null,
            "overflow_y": null,
            "padding": null,
            "right": null,
            "top": null,
            "visibility": null,
            "width": null
          }
        },
        "f0e2ec61176740e897c34d163793f872": {
          "model_module": "@jupyter-widgets/base",
          "model_name": "LayoutModel",
          "model_module_version": "1.2.0",
          "state": {
            "_model_module": "@jupyter-widgets/base",
            "_model_module_version": "1.2.0",
            "_model_name": "LayoutModel",
            "_view_count": null,
            "_view_module": "@jupyter-widgets/base",
            "_view_module_version": "1.2.0",
            "_view_name": "LayoutView",
            "align_content": null,
            "align_items": null,
            "align_self": null,
            "border": null,
            "bottom": null,
            "display": null,
            "flex": null,
            "flex_flow": null,
            "grid_area": null,
            "grid_auto_columns": null,
            "grid_auto_flow": null,
            "grid_auto_rows": null,
            "grid_column": null,
            "grid_gap": null,
            "grid_row": null,
            "grid_template_areas": null,
            "grid_template_columns": null,
            "grid_template_rows": null,
            "height": null,
            "justify_content": null,
            "justify_items": null,
            "left": null,
            "margin": null,
            "max_height": null,
            "max_width": null,
            "min_height": null,
            "min_width": null,
            "object_fit": null,
            "object_position": null,
            "order": null,
            "overflow": null,
            "overflow_x": null,
            "overflow_y": null,
            "padding": null,
            "right": null,
            "top": null,
            "visibility": null,
            "width": null
          }
        },
        "98ddc6e167404e56bdc11f01881c5f12": {
          "model_module": "@jupyter-widgets/controls",
          "model_name": "DescriptionStyleModel",
          "model_module_version": "1.5.0",
          "state": {
            "_model_module": "@jupyter-widgets/controls",
            "_model_module_version": "1.5.0",
            "_model_name": "DescriptionStyleModel",
            "_view_count": null,
            "_view_module": "@jupyter-widgets/base",
            "_view_module_version": "1.2.0",
            "_view_name": "StyleView",
            "description_width": ""
          }
        },
        "a07c5f04fe0e449c9266a4f439d5b0e6": {
          "model_module": "@jupyter-widgets/base",
          "model_name": "LayoutModel",
          "model_module_version": "1.2.0",
          "state": {
            "_model_module": "@jupyter-widgets/base",
            "_model_module_version": "1.2.0",
            "_model_name": "LayoutModel",
            "_view_count": null,
            "_view_module": "@jupyter-widgets/base",
            "_view_module_version": "1.2.0",
            "_view_name": "LayoutView",
            "align_content": null,
            "align_items": null,
            "align_self": null,
            "border": null,
            "bottom": null,
            "display": null,
            "flex": null,
            "flex_flow": null,
            "grid_area": null,
            "grid_auto_columns": null,
            "grid_auto_flow": null,
            "grid_auto_rows": null,
            "grid_column": null,
            "grid_gap": null,
            "grid_row": null,
            "grid_template_areas": null,
            "grid_template_columns": null,
            "grid_template_rows": null,
            "height": null,
            "justify_content": null,
            "justify_items": null,
            "left": null,
            "margin": null,
            "max_height": null,
            "max_width": null,
            "min_height": null,
            "min_width": null,
            "object_fit": null,
            "object_position": null,
            "order": null,
            "overflow": null,
            "overflow_x": null,
            "overflow_y": null,
            "padding": null,
            "right": null,
            "top": null,
            "visibility": null,
            "width": null
          }
        },
        "b87aaa0e8dc94528a75fb75c620bf53f": {
          "model_module": "@jupyter-widgets/controls",
          "model_name": "ProgressStyleModel",
          "model_module_version": "1.5.0",
          "state": {
            "_model_module": "@jupyter-widgets/controls",
            "_model_module_version": "1.5.0",
            "_model_name": "ProgressStyleModel",
            "_view_count": null,
            "_view_module": "@jupyter-widgets/base",
            "_view_module_version": "1.2.0",
            "_view_name": "StyleView",
            "bar_color": null,
            "description_width": ""
          }
        },
        "9e70a3d10d64420786d382b16e2fbc57": {
          "model_module": "@jupyter-widgets/base",
          "model_name": "LayoutModel",
          "model_module_version": "1.2.0",
          "state": {
            "_model_module": "@jupyter-widgets/base",
            "_model_module_version": "1.2.0",
            "_model_name": "LayoutModel",
            "_view_count": null,
            "_view_module": "@jupyter-widgets/base",
            "_view_module_version": "1.2.0",
            "_view_name": "LayoutView",
            "align_content": null,
            "align_items": null,
            "align_self": null,
            "border": null,
            "bottom": null,
            "display": null,
            "flex": null,
            "flex_flow": null,
            "grid_area": null,
            "grid_auto_columns": null,
            "grid_auto_flow": null,
            "grid_auto_rows": null,
            "grid_column": null,
            "grid_gap": null,
            "grid_row": null,
            "grid_template_areas": null,
            "grid_template_columns": null,
            "grid_template_rows": null,
            "height": null,
            "justify_content": null,
            "justify_items": null,
            "left": null,
            "margin": null,
            "max_height": null,
            "max_width": null,
            "min_height": null,
            "min_width": null,
            "object_fit": null,
            "object_position": null,
            "order": null,
            "overflow": null,
            "overflow_x": null,
            "overflow_y": null,
            "padding": null,
            "right": null,
            "top": null,
            "visibility": null,
            "width": null
          }
        },
        "d0cf42030eb34a89a83fe88476aa2ee5": {
          "model_module": "@jupyter-widgets/controls",
          "model_name": "DescriptionStyleModel",
          "model_module_version": "1.5.0",
          "state": {
            "_model_module": "@jupyter-widgets/controls",
            "_model_module_version": "1.5.0",
            "_model_name": "DescriptionStyleModel",
            "_view_count": null,
            "_view_module": "@jupyter-widgets/base",
            "_view_module_version": "1.2.0",
            "_view_name": "StyleView",
            "description_width": ""
          }
        },
        "359188a75aa74c10abd06901e85b5894": {
          "model_module": "@jupyter-widgets/controls",
          "model_name": "HBoxModel",
          "model_module_version": "1.5.0",
          "state": {
            "_dom_classes": [],
            "_model_module": "@jupyter-widgets/controls",
            "_model_module_version": "1.5.0",
            "_model_name": "HBoxModel",
            "_view_count": null,
            "_view_module": "@jupyter-widgets/controls",
            "_view_module_version": "1.5.0",
            "_view_name": "HBoxView",
            "box_style": "",
            "children": [
              "IPY_MODEL_9395dec693a941409321f74f5976dfc6",
              "IPY_MODEL_51597fa51cab4b638ee8324bb9f0f267",
              "IPY_MODEL_7f39c172e1774a4397c6a99c1d839f9c"
            ],
            "layout": "IPY_MODEL_403b752c822a4f079e71b515d6d105c7"
          }
        },
        "9395dec693a941409321f74f5976dfc6": {
          "model_module": "@jupyter-widgets/controls",
          "model_name": "HTMLModel",
          "model_module_version": "1.5.0",
          "state": {
            "_dom_classes": [],
            "_model_module": "@jupyter-widgets/controls",
            "_model_module_version": "1.5.0",
            "_model_name": "HTMLModel",
            "_view_count": null,
            "_view_module": "@jupyter-widgets/controls",
            "_view_module_version": "1.5.0",
            "_view_name": "HTMLView",
            "description": "",
            "description_tooltip": null,
            "layout": "IPY_MODEL_5fee324fa9bf423a91e3ce8c6f3e1b88",
            "placeholder": "​",
            "style": "IPY_MODEL_7bdbde6fab9e404c8bf89ef4ad1d925e",
            "value": "model_optimized.onnx: 100%"
          }
        },
        "51597fa51cab4b638ee8324bb9f0f267": {
          "model_module": "@jupyter-widgets/controls",
          "model_name": "FloatProgressModel",
          "model_module_version": "1.5.0",
          "state": {
            "_dom_classes": [],
            "_model_module": "@jupyter-widgets/controls",
            "_model_module_version": "1.5.0",
            "_model_name": "FloatProgressModel",
            "_view_count": null,
            "_view_module": "@jupyter-widgets/controls",
            "_view_module_version": "1.5.0",
            "_view_name": "ProgressView",
            "bar_style": "success",
            "description": "",
            "description_tooltip": null,
            "layout": "IPY_MODEL_a4300844e28245d5bd8d72c018c1d8d4",
            "max": 217824172,
            "min": 0,
            "orientation": "horizontal",
            "style": "IPY_MODEL_8fda72cfa92740dda92618578ad11548",
            "value": 217824172
          }
        },
        "7f39c172e1774a4397c6a99c1d839f9c": {
          "model_module": "@jupyter-widgets/controls",
          "model_name": "HTMLModel",
          "model_module_version": "1.5.0",
          "state": {
            "_dom_classes": [],
            "_model_module": "@jupyter-widgets/controls",
            "_model_module_version": "1.5.0",
            "_model_name": "HTMLModel",
            "_view_count": null,
            "_view_module": "@jupyter-widgets/controls",
            "_view_module_version": "1.5.0",
            "_view_name": "HTMLView",
            "description": "",
            "description_tooltip": null,
            "layout": "IPY_MODEL_72d912f1fd8748e5bf585f526cd94c7b",
            "placeholder": "​",
            "style": "IPY_MODEL_083a62c3f4af4534af79cdc697e1dcfc",
            "value": " 218M/218M [00:00&lt;00:00, 291MB/s]"
          }
        },
        "403b752c822a4f079e71b515d6d105c7": {
          "model_module": "@jupyter-widgets/base",
          "model_name": "LayoutModel",
          "model_module_version": "1.2.0",
          "state": {
            "_model_module": "@jupyter-widgets/base",
            "_model_module_version": "1.2.0",
            "_model_name": "LayoutModel",
            "_view_count": null,
            "_view_module": "@jupyter-widgets/base",
            "_view_module_version": "1.2.0",
            "_view_name": "LayoutView",
            "align_content": null,
            "align_items": null,
            "align_self": null,
            "border": null,
            "bottom": null,
            "display": null,
            "flex": null,
            "flex_flow": null,
            "grid_area": null,
            "grid_auto_columns": null,
            "grid_auto_flow": null,
            "grid_auto_rows": null,
            "grid_column": null,
            "grid_gap": null,
            "grid_row": null,
            "grid_template_areas": null,
            "grid_template_columns": null,
            "grid_template_rows": null,
            "height": null,
            "justify_content": null,
            "justify_items": null,
            "left": null,
            "margin": null,
            "max_height": null,
            "max_width": null,
            "min_height": null,
            "min_width": null,
            "object_fit": null,
            "object_position": null,
            "order": null,
            "overflow": null,
            "overflow_x": null,
            "overflow_y": null,
            "padding": null,
            "right": null,
            "top": null,
            "visibility": null,
            "width": null
          }
        },
        "5fee324fa9bf423a91e3ce8c6f3e1b88": {
          "model_module": "@jupyter-widgets/base",
          "model_name": "LayoutModel",
          "model_module_version": "1.2.0",
          "state": {
            "_model_module": "@jupyter-widgets/base",
            "_model_module_version": "1.2.0",
            "_model_name": "LayoutModel",
            "_view_count": null,
            "_view_module": "@jupyter-widgets/base",
            "_view_module_version": "1.2.0",
            "_view_name": "LayoutView",
            "align_content": null,
            "align_items": null,
            "align_self": null,
            "border": null,
            "bottom": null,
            "display": null,
            "flex": null,
            "flex_flow": null,
            "grid_area": null,
            "grid_auto_columns": null,
            "grid_auto_flow": null,
            "grid_auto_rows": null,
            "grid_column": null,
            "grid_gap": null,
            "grid_row": null,
            "grid_template_areas": null,
            "grid_template_columns": null,
            "grid_template_rows": null,
            "height": null,
            "justify_content": null,
            "justify_items": null,
            "left": null,
            "margin": null,
            "max_height": null,
            "max_width": null,
            "min_height": null,
            "min_width": null,
            "object_fit": null,
            "object_position": null,
            "order": null,
            "overflow": null,
            "overflow_x": null,
            "overflow_y": null,
            "padding": null,
            "right": null,
            "top": null,
            "visibility": null,
            "width": null
          }
        },
        "7bdbde6fab9e404c8bf89ef4ad1d925e": {
          "model_module": "@jupyter-widgets/controls",
          "model_name": "DescriptionStyleModel",
          "model_module_version": "1.5.0",
          "state": {
            "_model_module": "@jupyter-widgets/controls",
            "_model_module_version": "1.5.0",
            "_model_name": "DescriptionStyleModel",
            "_view_count": null,
            "_view_module": "@jupyter-widgets/base",
            "_view_module_version": "1.2.0",
            "_view_name": "StyleView",
            "description_width": ""
          }
        },
        "a4300844e28245d5bd8d72c018c1d8d4": {
          "model_module": "@jupyter-widgets/base",
          "model_name": "LayoutModel",
          "model_module_version": "1.2.0",
          "state": {
            "_model_module": "@jupyter-widgets/base",
            "_model_module_version": "1.2.0",
            "_model_name": "LayoutModel",
            "_view_count": null,
            "_view_module": "@jupyter-widgets/base",
            "_view_module_version": "1.2.0",
            "_view_name": "LayoutView",
            "align_content": null,
            "align_items": null,
            "align_self": null,
            "border": null,
            "bottom": null,
            "display": null,
            "flex": null,
            "flex_flow": null,
            "grid_area": null,
            "grid_auto_columns": null,
            "grid_auto_flow": null,
            "grid_auto_rows": null,
            "grid_column": null,
            "grid_gap": null,
            "grid_row": null,
            "grid_template_areas": null,
            "grid_template_columns": null,
            "grid_template_rows": null,
            "height": null,
            "justify_content": null,
            "justify_items": null,
            "left": null,
            "margin": null,
            "max_height": null,
            "max_width": null,
            "min_height": null,
            "min_width": null,
            "object_fit": null,
            "object_position": null,
            "order": null,
            "overflow": null,
            "overflow_x": null,
            "overflow_y": null,
            "padding": null,
            "right": null,
            "top": null,
            "visibility": null,
            "width": null
          }
        },
        "8fda72cfa92740dda92618578ad11548": {
          "model_module": "@jupyter-widgets/controls",
          "model_name": "ProgressStyleModel",
          "model_module_version": "1.5.0",
          "state": {
            "_model_module": "@jupyter-widgets/controls",
            "_model_module_version": "1.5.0",
            "_model_name": "ProgressStyleModel",
            "_view_count": null,
            "_view_module": "@jupyter-widgets/base",
            "_view_module_version": "1.2.0",
            "_view_name": "StyleView",
            "bar_color": null,
            "description_width": ""
          }
        },
        "72d912f1fd8748e5bf585f526cd94c7b": {
          "model_module": "@jupyter-widgets/base",
          "model_name": "LayoutModel",
          "model_module_version": "1.2.0",
          "state": {
            "_model_module": "@jupyter-widgets/base",
            "_model_module_version": "1.2.0",
            "_model_name": "LayoutModel",
            "_view_count": null,
            "_view_module": "@jupyter-widgets/base",
            "_view_module_version": "1.2.0",
            "_view_name": "LayoutView",
            "align_content": null,
            "align_items": null,
            "align_self": null,
            "border": null,
            "bottom": null,
            "display": null,
            "flex": null,
            "flex_flow": null,
            "grid_area": null,
            "grid_auto_columns": null,
            "grid_auto_flow": null,
            "grid_auto_rows": null,
            "grid_column": null,
            "grid_gap": null,
            "grid_row": null,
            "grid_template_areas": null,
            "grid_template_columns": null,
            "grid_template_rows": null,
            "height": null,
            "justify_content": null,
            "justify_items": null,
            "left": null,
            "margin": null,
            "max_height": null,
            "max_width": null,
            "min_height": null,
            "min_width": null,
            "object_fit": null,
            "object_position": null,
            "order": null,
            "overflow": null,
            "overflow_x": null,
            "overflow_y": null,
            "padding": null,
            "right": null,
            "top": null,
            "visibility": null,
            "width": null
          }
        },
        "083a62c3f4af4534af79cdc697e1dcfc": {
          "model_module": "@jupyter-widgets/controls",
          "model_name": "DescriptionStyleModel",
          "model_module_version": "1.5.0",
          "state": {
            "_model_module": "@jupyter-widgets/controls",
            "_model_module_version": "1.5.0",
            "_model_name": "DescriptionStyleModel",
            "_view_count": null,
            "_view_module": "@jupyter-widgets/base",
            "_view_module_version": "1.2.0",
            "_view_name": "StyleView",
            "description_width": ""
          }
        },
        "ee79644b3eb84d6894e402d6ab280308": {
          "model_module": "@jupyter-widgets/controls",
          "model_name": "HBoxModel",
          "model_module_version": "1.5.0",
          "state": {
            "_dom_classes": [],
            "_model_module": "@jupyter-widgets/controls",
            "_model_module_version": "1.5.0",
            "_model_name": "HBoxModel",
            "_view_count": null,
            "_view_module": "@jupyter-widgets/controls",
            "_view_module_version": "1.5.0",
            "_view_name": "HBoxView",
            "box_style": "",
            "children": [
              "IPY_MODEL_2435ee51268a4fecaf7a802b432733ff",
              "IPY_MODEL_4b3dec52064045768036f18d41ab53a3",
              "IPY_MODEL_64c3a75254f14baeab96b51ac051c028"
            ],
            "layout": "IPY_MODEL_3381dbafb35b4aba8f3f29dd95b41286"
          }
        },
        "2435ee51268a4fecaf7a802b432733ff": {
          "model_module": "@jupyter-widgets/controls",
          "model_name": "HTMLModel",
          "model_module_version": "1.5.0",
          "state": {
            "_dom_classes": [],
            "_model_module": "@jupyter-widgets/controls",
            "_model_module_version": "1.5.0",
            "_model_name": "HTMLModel",
            "_view_count": null,
            "_view_module": "@jupyter-widgets/controls",
            "_view_module_version": "1.5.0",
            "_view_name": "HTMLView",
            "description": "",
            "description_tooltip": null,
            "layout": "IPY_MODEL_3267df4961af4fccb8a951dc9cfdb14e",
            "placeholder": "​",
            "style": "IPY_MODEL_d574b99ff25842d4b7134a7f224aa213",
            "value": "tokenizer_config.json: 100%"
          }
        },
        "4b3dec52064045768036f18d41ab53a3": {
          "model_module": "@jupyter-widgets/controls",
          "model_name": "FloatProgressModel",
          "model_module_version": "1.5.0",
          "state": {
            "_dom_classes": [],
            "_model_module": "@jupyter-widgets/controls",
            "_model_module_version": "1.5.0",
            "_model_name": "FloatProgressModel",
            "_view_count": null,
            "_view_module": "@jupyter-widgets/controls",
            "_view_module_version": "1.5.0",
            "_view_name": "ProgressView",
            "bar_style": "success",
            "description": "",
            "description_tooltip": null,
            "layout": "IPY_MODEL_f01e668d90d34bec84230d78b5acb404",
            "max": 1242,
            "min": 0,
            "orientation": "horizontal",
            "style": "IPY_MODEL_cfd98da7fad64e319c377dbfc6532354",
            "value": 1242
          }
        },
        "64c3a75254f14baeab96b51ac051c028": {
          "model_module": "@jupyter-widgets/controls",
          "model_name": "HTMLModel",
          "model_module_version": "1.5.0",
          "state": {
            "_dom_classes": [],
            "_model_module": "@jupyter-widgets/controls",
            "_model_module_version": "1.5.0",
            "_model_name": "HTMLModel",
            "_view_count": null,
            "_view_module": "@jupyter-widgets/controls",
            "_view_module_version": "1.5.0",
            "_view_name": "HTMLView",
            "description": "",
            "description_tooltip": null,
            "layout": "IPY_MODEL_4742b3e387a8459d9aa478947312aafb",
            "placeholder": "​",
            "style": "IPY_MODEL_6d23cda5c1cf40e89ba84a64591649d3",
            "value": " 1.24k/1.24k [00:00&lt;00:00, 33.5kB/s]"
          }
        },
        "3381dbafb35b4aba8f3f29dd95b41286": {
          "model_module": "@jupyter-widgets/base",
          "model_name": "LayoutModel",
          "model_module_version": "1.2.0",
          "state": {
            "_model_module": "@jupyter-widgets/base",
            "_model_module_version": "1.2.0",
            "_model_name": "LayoutModel",
            "_view_count": null,
            "_view_module": "@jupyter-widgets/base",
            "_view_module_version": "1.2.0",
            "_view_name": "LayoutView",
            "align_content": null,
            "align_items": null,
            "align_self": null,
            "border": null,
            "bottom": null,
            "display": null,
            "flex": null,
            "flex_flow": null,
            "grid_area": null,
            "grid_auto_columns": null,
            "grid_auto_flow": null,
            "grid_auto_rows": null,
            "grid_column": null,
            "grid_gap": null,
            "grid_row": null,
            "grid_template_areas": null,
            "grid_template_columns": null,
            "grid_template_rows": null,
            "height": null,
            "justify_content": null,
            "justify_items": null,
            "left": null,
            "margin": null,
            "max_height": null,
            "max_width": null,
            "min_height": null,
            "min_width": null,
            "object_fit": null,
            "object_position": null,
            "order": null,
            "overflow": null,
            "overflow_x": null,
            "overflow_y": null,
            "padding": null,
            "right": null,
            "top": null,
            "visibility": null,
            "width": null
          }
        },
        "3267df4961af4fccb8a951dc9cfdb14e": {
          "model_module": "@jupyter-widgets/base",
          "model_name": "LayoutModel",
          "model_module_version": "1.2.0",
          "state": {
            "_model_module": "@jupyter-widgets/base",
            "_model_module_version": "1.2.0",
            "_model_name": "LayoutModel",
            "_view_count": null,
            "_view_module": "@jupyter-widgets/base",
            "_view_module_version": "1.2.0",
            "_view_name": "LayoutView",
            "align_content": null,
            "align_items": null,
            "align_self": null,
            "border": null,
            "bottom": null,
            "display": null,
            "flex": null,
            "flex_flow": null,
            "grid_area": null,
            "grid_auto_columns": null,
            "grid_auto_flow": null,
            "grid_auto_rows": null,
            "grid_column": null,
            "grid_gap": null,
            "grid_row": null,
            "grid_template_areas": null,
            "grid_template_columns": null,
            "grid_template_rows": null,
            "height": null,
            "justify_content": null,
            "justify_items": null,
            "left": null,
            "margin": null,
            "max_height": null,
            "max_width": null,
            "min_height": null,
            "min_width": null,
            "object_fit": null,
            "object_position": null,
            "order": null,
            "overflow": null,
            "overflow_x": null,
            "overflow_y": null,
            "padding": null,
            "right": null,
            "top": null,
            "visibility": null,
            "width": null
          }
        },
        "d574b99ff25842d4b7134a7f224aa213": {
          "model_module": "@jupyter-widgets/controls",
          "model_name": "DescriptionStyleModel",
          "model_module_version": "1.5.0",
          "state": {
            "_model_module": "@jupyter-widgets/controls",
            "_model_module_version": "1.5.0",
            "_model_name": "DescriptionStyleModel",
            "_view_count": null,
            "_view_module": "@jupyter-widgets/base",
            "_view_module_version": "1.2.0",
            "_view_name": "StyleView",
            "description_width": ""
          }
        },
        "f01e668d90d34bec84230d78b5acb404": {
          "model_module": "@jupyter-widgets/base",
          "model_name": "LayoutModel",
          "model_module_version": "1.2.0",
          "state": {
            "_model_module": "@jupyter-widgets/base",
            "_model_module_version": "1.2.0",
            "_model_name": "LayoutModel",
            "_view_count": null,
            "_view_module": "@jupyter-widgets/base",
            "_view_module_version": "1.2.0",
            "_view_name": "LayoutView",
            "align_content": null,
            "align_items": null,
            "align_self": null,
            "border": null,
            "bottom": null,
            "display": null,
            "flex": null,
            "flex_flow": null,
            "grid_area": null,
            "grid_auto_columns": null,
            "grid_auto_flow": null,
            "grid_auto_rows": null,
            "grid_column": null,
            "grid_gap": null,
            "grid_row": null,
            "grid_template_areas": null,
            "grid_template_columns": null,
            "grid_template_rows": null,
            "height": null,
            "justify_content": null,
            "justify_items": null,
            "left": null,
            "margin": null,
            "max_height": null,
            "max_width": null,
            "min_height": null,
            "min_width": null,
            "object_fit": null,
            "object_position": null,
            "order": null,
            "overflow": null,
            "overflow_x": null,
            "overflow_y": null,
            "padding": null,
            "right": null,
            "top": null,
            "visibility": null,
            "width": null
          }
        },
        "cfd98da7fad64e319c377dbfc6532354": {
          "model_module": "@jupyter-widgets/controls",
          "model_name": "ProgressStyleModel",
          "model_module_version": "1.5.0",
          "state": {
            "_model_module": "@jupyter-widgets/controls",
            "_model_module_version": "1.5.0",
            "_model_name": "ProgressStyleModel",
            "_view_count": null,
            "_view_module": "@jupyter-widgets/base",
            "_view_module_version": "1.2.0",
            "_view_name": "StyleView",
            "bar_color": null,
            "description_width": ""
          }
        },
        "4742b3e387a8459d9aa478947312aafb": {
          "model_module": "@jupyter-widgets/base",
          "model_name": "LayoutModel",
          "model_module_version": "1.2.0",
          "state": {
            "_model_module": "@jupyter-widgets/base",
            "_model_module_version": "1.2.0",
            "_model_name": "LayoutModel",
            "_view_count": null,
            "_view_module": "@jupyter-widgets/base",
            "_view_module_version": "1.2.0",
            "_view_name": "LayoutView",
            "align_content": null,
            "align_items": null,
            "align_self": null,
            "border": null,
            "bottom": null,
            "display": null,
            "flex": null,
            "flex_flow": null,
            "grid_area": null,
            "grid_auto_columns": null,
            "grid_auto_flow": null,
            "grid_auto_rows": null,
            "grid_column": null,
            "grid_gap": null,
            "grid_row": null,
            "grid_template_areas": null,
            "grid_template_columns": null,
            "grid_template_rows": null,
            "height": null,
            "justify_content": null,
            "justify_items": null,
            "left": null,
            "margin": null,
            "max_height": null,
            "max_width": null,
            "min_height": null,
            "min_width": null,
            "object_fit": null,
            "object_position": null,
            "order": null,
            "overflow": null,
            "overflow_x": null,
            "overflow_y": null,
            "padding": null,
            "right": null,
            "top": null,
            "visibility": null,
            "width": null
          }
        },
        "6d23cda5c1cf40e89ba84a64591649d3": {
          "model_module": "@jupyter-widgets/controls",
          "model_name": "DescriptionStyleModel",
          "model_module_version": "1.5.0",
          "state": {
            "_model_module": "@jupyter-widgets/controls",
            "_model_module_version": "1.5.0",
            "_model_name": "DescriptionStyleModel",
            "_view_count": null,
            "_view_module": "@jupyter-widgets/base",
            "_view_module_version": "1.2.0",
            "_view_name": "StyleView",
            "description_width": ""
          }
        },
        "9542907c432f488a8aa515695f846a3f": {
          "model_module": "@jupyter-widgets/controls",
          "model_name": "HBoxModel",
          "model_module_version": "1.5.0",
          "state": {
            "_dom_classes": [],
            "_model_module": "@jupyter-widgets/controls",
            "_model_module_version": "1.5.0",
            "_model_name": "HBoxModel",
            "_view_count": null,
            "_view_module": "@jupyter-widgets/controls",
            "_view_module_version": "1.5.0",
            "_view_name": "HBoxView",
            "box_style": "",
            "children": [
              "IPY_MODEL_dbc09f726f0e41cab9958c921dd369d7",
              "IPY_MODEL_b71fa87fa31c4f0996adee5cda582ed6",
              "IPY_MODEL_a46087c0c969406ea5bacfc11928639e"
            ],
            "layout": "IPY_MODEL_8688c32c6d454ac2ad9d60f07f709bb9"
          }
        },
        "dbc09f726f0e41cab9958c921dd369d7": {
          "model_module": "@jupyter-widgets/controls",
          "model_name": "HTMLModel",
          "model_module_version": "1.5.0",
          "state": {
            "_dom_classes": [],
            "_model_module": "@jupyter-widgets/controls",
            "_model_module_version": "1.5.0",
            "_model_name": "HTMLModel",
            "_view_count": null,
            "_view_module": "@jupyter-widgets/controls",
            "_view_module_version": "1.5.0",
            "_view_name": "HTMLView",
            "description": "",
            "description_tooltip": null,
            "layout": "IPY_MODEL_a85e9595655742ffacd61b1e77a1c426",
            "placeholder": "​",
            "style": "IPY_MODEL_fe34dccebc474d13b4740f5dfabceb0d",
            "value": "special_tokens_map.json: 100%"
          }
        },
        "b71fa87fa31c4f0996adee5cda582ed6": {
          "model_module": "@jupyter-widgets/controls",
          "model_name": "FloatProgressModel",
          "model_module_version": "1.5.0",
          "state": {
            "_dom_classes": [],
            "_model_module": "@jupyter-widgets/controls",
            "_model_module_version": "1.5.0",
            "_model_name": "FloatProgressModel",
            "_view_count": null,
            "_view_module": "@jupyter-widgets/controls",
            "_view_module_version": "1.5.0",
            "_view_name": "ProgressView",
            "bar_style": "success",
            "description": "",
            "description_tooltip": null,
            "layout": "IPY_MODEL_4abb9928ca3c4e678a7142c6eb2f19ab",
            "max": 695,
            "min": 0,
            "orientation": "horizontal",
            "style": "IPY_MODEL_c620b15d117749d68ff3efa8121b873f",
            "value": 695
          }
        },
        "a46087c0c969406ea5bacfc11928639e": {
          "model_module": "@jupyter-widgets/controls",
          "model_name": "HTMLModel",
          "model_module_version": "1.5.0",
          "state": {
            "_dom_classes": [],
            "_model_module": "@jupyter-widgets/controls",
            "_model_module_version": "1.5.0",
            "_model_name": "HTMLModel",
            "_view_count": null,
            "_view_module": "@jupyter-widgets/controls",
            "_view_module_version": "1.5.0",
            "_view_name": "HTMLView",
            "description": "",
            "description_tooltip": null,
            "layout": "IPY_MODEL_65f2458e5dff4de1b06efb8a1d973bdd",
            "placeholder": "​",
            "style": "IPY_MODEL_e2e52648b5974a5ab702cd7577573663",
            "value": " 695/695 [00:00&lt;00:00, 11.8kB/s]"
          }
        },
        "8688c32c6d454ac2ad9d60f07f709bb9": {
          "model_module": "@jupyter-widgets/base",
          "model_name": "LayoutModel",
          "model_module_version": "1.2.0",
          "state": {
            "_model_module": "@jupyter-widgets/base",
            "_model_module_version": "1.2.0",
            "_model_name": "LayoutModel",
            "_view_count": null,
            "_view_module": "@jupyter-widgets/base",
            "_view_module_version": "1.2.0",
            "_view_name": "LayoutView",
            "align_content": null,
            "align_items": null,
            "align_self": null,
            "border": null,
            "bottom": null,
            "display": null,
            "flex": null,
            "flex_flow": null,
            "grid_area": null,
            "grid_auto_columns": null,
            "grid_auto_flow": null,
            "grid_auto_rows": null,
            "grid_column": null,
            "grid_gap": null,
            "grid_row": null,
            "grid_template_areas": null,
            "grid_template_columns": null,
            "grid_template_rows": null,
            "height": null,
            "justify_content": null,
            "justify_items": null,
            "left": null,
            "margin": null,
            "max_height": null,
            "max_width": null,
            "min_height": null,
            "min_width": null,
            "object_fit": null,
            "object_position": null,
            "order": null,
            "overflow": null,
            "overflow_x": null,
            "overflow_y": null,
            "padding": null,
            "right": null,
            "top": null,
            "visibility": null,
            "width": null
          }
        },
        "a85e9595655742ffacd61b1e77a1c426": {
          "model_module": "@jupyter-widgets/base",
          "model_name": "LayoutModel",
          "model_module_version": "1.2.0",
          "state": {
            "_model_module": "@jupyter-widgets/base",
            "_model_module_version": "1.2.0",
            "_model_name": "LayoutModel",
            "_view_count": null,
            "_view_module": "@jupyter-widgets/base",
            "_view_module_version": "1.2.0",
            "_view_name": "LayoutView",
            "align_content": null,
            "align_items": null,
            "align_self": null,
            "border": null,
            "bottom": null,
            "display": null,
            "flex": null,
            "flex_flow": null,
            "grid_area": null,
            "grid_auto_columns": null,
            "grid_auto_flow": null,
            "grid_auto_rows": null,
            "grid_column": null,
            "grid_gap": null,
            "grid_row": null,
            "grid_template_areas": null,
            "grid_template_columns": null,
            "grid_template_rows": null,
            "height": null,
            "justify_content": null,
            "justify_items": null,
            "left": null,
            "margin": null,
            "max_height": null,
            "max_width": null,
            "min_height": null,
            "min_width": null,
            "object_fit": null,
            "object_position": null,
            "order": null,
            "overflow": null,
            "overflow_x": null,
            "overflow_y": null,
            "padding": null,
            "right": null,
            "top": null,
            "visibility": null,
            "width": null
          }
        },
        "fe34dccebc474d13b4740f5dfabceb0d": {
          "model_module": "@jupyter-widgets/controls",
          "model_name": "DescriptionStyleModel",
          "model_module_version": "1.5.0",
          "state": {
            "_model_module": "@jupyter-widgets/controls",
            "_model_module_version": "1.5.0",
            "_model_name": "DescriptionStyleModel",
            "_view_count": null,
            "_view_module": "@jupyter-widgets/base",
            "_view_module_version": "1.2.0",
            "_view_name": "StyleView",
            "description_width": ""
          }
        },
        "4abb9928ca3c4e678a7142c6eb2f19ab": {
          "model_module": "@jupyter-widgets/base",
          "model_name": "LayoutModel",
          "model_module_version": "1.2.0",
          "state": {
            "_model_module": "@jupyter-widgets/base",
            "_model_module_version": "1.2.0",
            "_model_name": "LayoutModel",
            "_view_count": null,
            "_view_module": "@jupyter-widgets/base",
            "_view_module_version": "1.2.0",
            "_view_name": "LayoutView",
            "align_content": null,
            "align_items": null,
            "align_self": null,
            "border": null,
            "bottom": null,
            "display": null,
            "flex": null,
            "flex_flow": null,
            "grid_area": null,
            "grid_auto_columns": null,
            "grid_auto_flow": null,
            "grid_auto_rows": null,
            "grid_column": null,
            "grid_gap": null,
            "grid_row": null,
            "grid_template_areas": null,
            "grid_template_columns": null,
            "grid_template_rows": null,
            "height": null,
            "justify_content": null,
            "justify_items": null,
            "left": null,
            "margin": null,
            "max_height": null,
            "max_width": null,
            "min_height": null,
            "min_width": null,
            "object_fit": null,
            "object_position": null,
            "order": null,
            "overflow": null,
            "overflow_x": null,
            "overflow_y": null,
            "padding": null,
            "right": null,
            "top": null,
            "visibility": null,
            "width": null
          }
        },
        "c620b15d117749d68ff3efa8121b873f": {
          "model_module": "@jupyter-widgets/controls",
          "model_name": "ProgressStyleModel",
          "model_module_version": "1.5.0",
          "state": {
            "_model_module": "@jupyter-widgets/controls",
            "_model_module_version": "1.5.0",
            "_model_name": "ProgressStyleModel",
            "_view_count": null,
            "_view_module": "@jupyter-widgets/base",
            "_view_module_version": "1.2.0",
            "_view_name": "StyleView",
            "bar_color": null,
            "description_width": ""
          }
        },
        "65f2458e5dff4de1b06efb8a1d973bdd": {
          "model_module": "@jupyter-widgets/base",
          "model_name": "LayoutModel",
          "model_module_version": "1.2.0",
          "state": {
            "_model_module": "@jupyter-widgets/base",
            "_model_module_version": "1.2.0",
            "_model_name": "LayoutModel",
            "_view_count": null,
            "_view_module": "@jupyter-widgets/base",
            "_view_module_version": "1.2.0",
            "_view_name": "LayoutView",
            "align_content": null,
            "align_items": null,
            "align_self": null,
            "border": null,
            "bottom": null,
            "display": null,
            "flex": null,
            "flex_flow": null,
            "grid_area": null,
            "grid_auto_columns": null,
            "grid_auto_flow": null,
            "grid_auto_rows": null,
            "grid_column": null,
            "grid_gap": null,
            "grid_row": null,
            "grid_template_areas": null,
            "grid_template_columns": null,
            "grid_template_rows": null,
            "height": null,
            "justify_content": null,
            "justify_items": null,
            "left": null,
            "margin": null,
            "max_height": null,
            "max_width": null,
            "min_height": null,
            "min_width": null,
            "object_fit": null,
            "object_position": null,
            "order": null,
            "overflow": null,
            "overflow_x": null,
            "overflow_y": null,
            "padding": null,
            "right": null,
            "top": null,
            "visibility": null,
            "width": null
          }
        },
        "e2e52648b5974a5ab702cd7577573663": {
          "model_module": "@jupyter-widgets/controls",
          "model_name": "DescriptionStyleModel",
          "model_module_version": "1.5.0",
          "state": {
            "_model_module": "@jupyter-widgets/controls",
            "_model_module_version": "1.5.0",
            "_model_name": "DescriptionStyleModel",
            "_view_count": null,
            "_view_module": "@jupyter-widgets/base",
            "_view_module_version": "1.2.0",
            "_view_name": "StyleView",
            "description_width": ""
          }
        },
        "2e8160664f8e4a2991c3e3a5c7b3501e": {
          "model_module": "@jupyter-widgets/controls",
          "model_name": "HBoxModel",
          "model_module_version": "1.5.0",
          "state": {
            "_dom_classes": [],
            "_model_module": "@jupyter-widgets/controls",
            "_model_module_version": "1.5.0",
            "_model_name": "HBoxModel",
            "_view_count": null,
            "_view_module": "@jupyter-widgets/controls",
            "_view_module_version": "1.5.0",
            "_view_name": "HBoxView",
            "box_style": "",
            "children": [
              "IPY_MODEL_9e286e8b3df34c70a38b419952be4944",
              "IPY_MODEL_91ab163411fa4f0bb96f921f522a3839",
              "IPY_MODEL_6de63633c6934314b0fdf2bcb6174ea6"
            ],
            "layout": "IPY_MODEL_c2781d487b1f47cbb8fc2775b8613b87"
          }
        },
        "9e286e8b3df34c70a38b419952be4944": {
          "model_module": "@jupyter-widgets/controls",
          "model_name": "HTMLModel",
          "model_module_version": "1.5.0",
          "state": {
            "_dom_classes": [],
            "_model_module": "@jupyter-widgets/controls",
            "_model_module_version": "1.5.0",
            "_model_name": "HTMLModel",
            "_view_count": null,
            "_view_module": "@jupyter-widgets/controls",
            "_view_module_version": "1.5.0",
            "_view_name": "HTMLView",
            "description": "",
            "description_tooltip": null,
            "layout": "IPY_MODEL_0066c3e11b4b4ef49fd87c28b08a4185",
            "placeholder": "​",
            "style": "IPY_MODEL_3320ca7ddf7d47159a1c4faafa17e3e8",
            "value": "tokenizer.json: 100%"
          }
        },
        "91ab163411fa4f0bb96f921f522a3839": {
          "model_module": "@jupyter-widgets/controls",
          "model_name": "FloatProgressModel",
          "model_module_version": "1.5.0",
          "state": {
            "_dom_classes": [],
            "_model_module": "@jupyter-widgets/controls",
            "_model_module_version": "1.5.0",
            "_model_name": "FloatProgressModel",
            "_view_count": null,
            "_view_module": "@jupyter-widgets/controls",
            "_view_module_version": "1.5.0",
            "_view_name": "ProgressView",
            "bar_style": "success",
            "description": "",
            "description_tooltip": null,
            "layout": "IPY_MODEL_6d1dbc0717ed444db81954b29cfa5ffc",
            "max": 711396,
            "min": 0,
            "orientation": "horizontal",
            "style": "IPY_MODEL_060617ef76a1410a8ef23e3f0fd17764",
            "value": 711396
          }
        },
        "6de63633c6934314b0fdf2bcb6174ea6": {
          "model_module": "@jupyter-widgets/controls",
          "model_name": "HTMLModel",
          "model_module_version": "1.5.0",
          "state": {
            "_dom_classes": [],
            "_model_module": "@jupyter-widgets/controls",
            "_model_module_version": "1.5.0",
            "_model_name": "HTMLModel",
            "_view_count": null,
            "_view_module": "@jupyter-widgets/controls",
            "_view_module_version": "1.5.0",
            "_view_name": "HTMLView",
            "description": "",
            "description_tooltip": null,
            "layout": "IPY_MODEL_9f0e3d3331fa4e90a5334edbdb5f4156",
            "placeholder": "​",
            "style": "IPY_MODEL_47d5665177da4f97a84dca47ec984225",
            "value": " 711k/711k [00:00&lt;00:00, 727kB/s]"
          }
        },
        "c2781d487b1f47cbb8fc2775b8613b87": {
          "model_module": "@jupyter-widgets/base",
          "model_name": "LayoutModel",
          "model_module_version": "1.2.0",
          "state": {
            "_model_module": "@jupyter-widgets/base",
            "_model_module_version": "1.2.0",
            "_model_name": "LayoutModel",
            "_view_count": null,
            "_view_module": "@jupyter-widgets/base",
            "_view_module_version": "1.2.0",
            "_view_name": "LayoutView",
            "align_content": null,
            "align_items": null,
            "align_self": null,
            "border": null,
            "bottom": null,
            "display": null,
            "flex": null,
            "flex_flow": null,
            "grid_area": null,
            "grid_auto_columns": null,
            "grid_auto_flow": null,
            "grid_auto_rows": null,
            "grid_column": null,
            "grid_gap": null,
            "grid_row": null,
            "grid_template_areas": null,
            "grid_template_columns": null,
            "grid_template_rows": null,
            "height": null,
            "justify_content": null,
            "justify_items": null,
            "left": null,
            "margin": null,
            "max_height": null,
            "max_width": null,
            "min_height": null,
            "min_width": null,
            "object_fit": null,
            "object_position": null,
            "order": null,
            "overflow": null,
            "overflow_x": null,
            "overflow_y": null,
            "padding": null,
            "right": null,
            "top": null,
            "visibility": null,
            "width": null
          }
        },
        "0066c3e11b4b4ef49fd87c28b08a4185": {
          "model_module": "@jupyter-widgets/base",
          "model_name": "LayoutModel",
          "model_module_version": "1.2.0",
          "state": {
            "_model_module": "@jupyter-widgets/base",
            "_model_module_version": "1.2.0",
            "_model_name": "LayoutModel",
            "_view_count": null,
            "_view_module": "@jupyter-widgets/base",
            "_view_module_version": "1.2.0",
            "_view_name": "LayoutView",
            "align_content": null,
            "align_items": null,
            "align_self": null,
            "border": null,
            "bottom": null,
            "display": null,
            "flex": null,
            "flex_flow": null,
            "grid_area": null,
            "grid_auto_columns": null,
            "grid_auto_flow": null,
            "grid_auto_rows": null,
            "grid_column": null,
            "grid_gap": null,
            "grid_row": null,
            "grid_template_areas": null,
            "grid_template_columns": null,
            "grid_template_rows": null,
            "height": null,
            "justify_content": null,
            "justify_items": null,
            "left": null,
            "margin": null,
            "max_height": null,
            "max_width": null,
            "min_height": null,
            "min_width": null,
            "object_fit": null,
            "object_position": null,
            "order": null,
            "overflow": null,
            "overflow_x": null,
            "overflow_y": null,
            "padding": null,
            "right": null,
            "top": null,
            "visibility": null,
            "width": null
          }
        },
        "3320ca7ddf7d47159a1c4faafa17e3e8": {
          "model_module": "@jupyter-widgets/controls",
          "model_name": "DescriptionStyleModel",
          "model_module_version": "1.5.0",
          "state": {
            "_model_module": "@jupyter-widgets/controls",
            "_model_module_version": "1.5.0",
            "_model_name": "DescriptionStyleModel",
            "_view_count": null,
            "_view_module": "@jupyter-widgets/base",
            "_view_module_version": "1.2.0",
            "_view_name": "StyleView",
            "description_width": ""
          }
        },
        "6d1dbc0717ed444db81954b29cfa5ffc": {
          "model_module": "@jupyter-widgets/base",
          "model_name": "LayoutModel",
          "model_module_version": "1.2.0",
          "state": {
            "_model_module": "@jupyter-widgets/base",
            "_model_module_version": "1.2.0",
            "_model_name": "LayoutModel",
            "_view_count": null,
            "_view_module": "@jupyter-widgets/base",
            "_view_module_version": "1.2.0",
            "_view_name": "LayoutView",
            "align_content": null,
            "align_items": null,
            "align_self": null,
            "border": null,
            "bottom": null,
            "display": null,
            "flex": null,
            "flex_flow": null,
            "grid_area": null,
            "grid_auto_columns": null,
            "grid_auto_flow": null,
            "grid_auto_rows": null,
            "grid_column": null,
            "grid_gap": null,
            "grid_row": null,
            "grid_template_areas": null,
            "grid_template_columns": null,
            "grid_template_rows": null,
            "height": null,
            "justify_content": null,
            "justify_items": null,
            "left": null,
            "margin": null,
            "max_height": null,
            "max_width": null,
            "min_height": null,
            "min_width": null,
            "object_fit": null,
            "object_position": null,
            "order": null,
            "overflow": null,
            "overflow_x": null,
            "overflow_y": null,
            "padding": null,
            "right": null,
            "top": null,
            "visibility": null,
            "width": null
          }
        },
        "060617ef76a1410a8ef23e3f0fd17764": {
          "model_module": "@jupyter-widgets/controls",
          "model_name": "ProgressStyleModel",
          "model_module_version": "1.5.0",
          "state": {
            "_model_module": "@jupyter-widgets/controls",
            "_model_module_version": "1.5.0",
            "_model_name": "ProgressStyleModel",
            "_view_count": null,
            "_view_module": "@jupyter-widgets/base",
            "_view_module_version": "1.2.0",
            "_view_name": "StyleView",
            "bar_color": null,
            "description_width": ""
          }
        },
        "9f0e3d3331fa4e90a5334edbdb5f4156": {
          "model_module": "@jupyter-widgets/base",
          "model_name": "LayoutModel",
          "model_module_version": "1.2.0",
          "state": {
            "_model_module": "@jupyter-widgets/base",
            "_model_module_version": "1.2.0",
            "_model_name": "LayoutModel",
            "_view_count": null,
            "_view_module": "@jupyter-widgets/base",
            "_view_module_version": "1.2.0",
            "_view_name": "LayoutView",
            "align_content": null,
            "align_items": null,
            "align_self": null,
            "border": null,
            "bottom": null,
            "display": null,
            "flex": null,
            "flex_flow": null,
            "grid_area": null,
            "grid_auto_columns": null,
            "grid_auto_flow": null,
            "grid_auto_rows": null,
            "grid_column": null,
            "grid_gap": null,
            "grid_row": null,
            "grid_template_areas": null,
            "grid_template_columns": null,
            "grid_template_rows": null,
            "height": null,
            "justify_content": null,
            "justify_items": null,
            "left": null,
            "margin": null,
            "max_height": null,
            "max_width": null,
            "min_height": null,
            "min_width": null,
            "object_fit": null,
            "object_position": null,
            "order": null,
            "overflow": null,
            "overflow_x": null,
            "overflow_y": null,
            "padding": null,
            "right": null,
            "top": null,
            "visibility": null,
            "width": null
          }
        },
        "47d5665177da4f97a84dca47ec984225": {
          "model_module": "@jupyter-widgets/controls",
          "model_name": "DescriptionStyleModel",
          "model_module_version": "1.5.0",
          "state": {
            "_model_module": "@jupyter-widgets/controls",
            "_model_module_version": "1.5.0",
            "_model_name": "DescriptionStyleModel",
            "_view_count": null,
            "_view_module": "@jupyter-widgets/base",
            "_view_module_version": "1.2.0",
            "_view_name": "StyleView",
            "description_width": ""
          }
        },
        "d27adf6d111a498498fe8bf584880798": {
          "model_module": "@jupyter-widgets/controls",
          "model_name": "HBoxModel",
          "model_module_version": "1.5.0",
          "state": {
            "_dom_classes": [],
            "_model_module": "@jupyter-widgets/controls",
            "_model_module_version": "1.5.0",
            "_model_name": "HBoxModel",
            "_view_count": null,
            "_view_module": "@jupyter-widgets/controls",
            "_view_module_version": "1.5.0",
            "_view_name": "HBoxView",
            "box_style": "",
            "children": [
              "IPY_MODEL_a55c5995174e454b889e5e365cd6d5be",
              "IPY_MODEL_6da3cc1bfa624229afdcee54ac06b0c6",
              "IPY_MODEL_98c02a24b24e4077822f9c8214cfbf9b"
            ],
            "layout": "IPY_MODEL_73b60f95d27b498b96524b5b89cc7e1a"
          }
        },
        "a55c5995174e454b889e5e365cd6d5be": {
          "model_module": "@jupyter-widgets/controls",
          "model_name": "HTMLModel",
          "model_module_version": "1.5.0",
          "state": {
            "_dom_classes": [],
            "_model_module": "@jupyter-widgets/controls",
            "_model_module_version": "1.5.0",
            "_model_name": "HTMLModel",
            "_view_count": null,
            "_view_module": "@jupyter-widgets/controls",
            "_view_module_version": "1.5.0",
            "_view_name": "HTMLView",
            "description": "",
            "description_tooltip": null,
            "layout": "IPY_MODEL_53ffb1dadcf349738689fd2ffb274ba9",
            "placeholder": "​",
            "style": "IPY_MODEL_406ae631c49f452faa3aca55247a04d1",
            "value": "config.json: 100%"
          }
        },
        "6da3cc1bfa624229afdcee54ac06b0c6": {
          "model_module": "@jupyter-widgets/controls",
          "model_name": "FloatProgressModel",
          "model_module_version": "1.5.0",
          "state": {
            "_dom_classes": [],
            "_model_module": "@jupyter-widgets/controls",
            "_model_module_version": "1.5.0",
            "_model_name": "FloatProgressModel",
            "_view_count": null,
            "_view_module": "@jupyter-widgets/controls",
            "_view_module_version": "1.5.0",
            "_view_name": "ProgressView",
            "bar_style": "success",
            "description": "",
            "description_tooltip": null,
            "layout": "IPY_MODEL_126594c6bf3044908b1cd9ae0d03688e",
            "max": 740,
            "min": 0,
            "orientation": "horizontal",
            "style": "IPY_MODEL_d496bb873a844eb09d900bca7f363c5b",
            "value": 740
          }
        },
        "98c02a24b24e4077822f9c8214cfbf9b": {
          "model_module": "@jupyter-widgets/controls",
          "model_name": "HTMLModel",
          "model_module_version": "1.5.0",
          "state": {
            "_dom_classes": [],
            "_model_module": "@jupyter-widgets/controls",
            "_model_module_version": "1.5.0",
            "_model_name": "HTMLModel",
            "_view_count": null,
            "_view_module": "@jupyter-widgets/controls",
            "_view_module_version": "1.5.0",
            "_view_name": "HTMLView",
            "description": "",
            "description_tooltip": null,
            "layout": "IPY_MODEL_72f41de447344a2cb9b853b503f67a65",
            "placeholder": "​",
            "style": "IPY_MODEL_8a8f40b4574f4d77a8b2ed031f0d3b56",
            "value": " 740/740 [00:00&lt;00:00, 15.9kB/s]"
          }
        },
        "73b60f95d27b498b96524b5b89cc7e1a": {
          "model_module": "@jupyter-widgets/base",
          "model_name": "LayoutModel",
          "model_module_version": "1.2.0",
          "state": {
            "_model_module": "@jupyter-widgets/base",
            "_model_module_version": "1.2.0",
            "_model_name": "LayoutModel",
            "_view_count": null,
            "_view_module": "@jupyter-widgets/base",
            "_view_module_version": "1.2.0",
            "_view_name": "LayoutView",
            "align_content": null,
            "align_items": null,
            "align_self": null,
            "border": null,
            "bottom": null,
            "display": null,
            "flex": null,
            "flex_flow": null,
            "grid_area": null,
            "grid_auto_columns": null,
            "grid_auto_flow": null,
            "grid_auto_rows": null,
            "grid_column": null,
            "grid_gap": null,
            "grid_row": null,
            "grid_template_areas": null,
            "grid_template_columns": null,
            "grid_template_rows": null,
            "height": null,
            "justify_content": null,
            "justify_items": null,
            "left": null,
            "margin": null,
            "max_height": null,
            "max_width": null,
            "min_height": null,
            "min_width": null,
            "object_fit": null,
            "object_position": null,
            "order": null,
            "overflow": null,
            "overflow_x": null,
            "overflow_y": null,
            "padding": null,
            "right": null,
            "top": null,
            "visibility": null,
            "width": null
          }
        },
        "53ffb1dadcf349738689fd2ffb274ba9": {
          "model_module": "@jupyter-widgets/base",
          "model_name": "LayoutModel",
          "model_module_version": "1.2.0",
          "state": {
            "_model_module": "@jupyter-widgets/base",
            "_model_module_version": "1.2.0",
            "_model_name": "LayoutModel",
            "_view_count": null,
            "_view_module": "@jupyter-widgets/base",
            "_view_module_version": "1.2.0",
            "_view_name": "LayoutView",
            "align_content": null,
            "align_items": null,
            "align_self": null,
            "border": null,
            "bottom": null,
            "display": null,
            "flex": null,
            "flex_flow": null,
            "grid_area": null,
            "grid_auto_columns": null,
            "grid_auto_flow": null,
            "grid_auto_rows": null,
            "grid_column": null,
            "grid_gap": null,
            "grid_row": null,
            "grid_template_areas": null,
            "grid_template_columns": null,
            "grid_template_rows": null,
            "height": null,
            "justify_content": null,
            "justify_items": null,
            "left": null,
            "margin": null,
            "max_height": null,
            "max_width": null,
            "min_height": null,
            "min_width": null,
            "object_fit": null,
            "object_position": null,
            "order": null,
            "overflow": null,
            "overflow_x": null,
            "overflow_y": null,
            "padding": null,
            "right": null,
            "top": null,
            "visibility": null,
            "width": null
          }
        },
        "406ae631c49f452faa3aca55247a04d1": {
          "model_module": "@jupyter-widgets/controls",
          "model_name": "DescriptionStyleModel",
          "model_module_version": "1.5.0",
          "state": {
            "_model_module": "@jupyter-widgets/controls",
            "_model_module_version": "1.5.0",
            "_model_name": "DescriptionStyleModel",
            "_view_count": null,
            "_view_module": "@jupyter-widgets/base",
            "_view_module_version": "1.2.0",
            "_view_name": "StyleView",
            "description_width": ""
          }
        },
        "126594c6bf3044908b1cd9ae0d03688e": {
          "model_module": "@jupyter-widgets/base",
          "model_name": "LayoutModel",
          "model_module_version": "1.2.0",
          "state": {
            "_model_module": "@jupyter-widgets/base",
            "_model_module_version": "1.2.0",
            "_model_name": "LayoutModel",
            "_view_count": null,
            "_view_module": "@jupyter-widgets/base",
            "_view_module_version": "1.2.0",
            "_view_name": "LayoutView",
            "align_content": null,
            "align_items": null,
            "align_self": null,
            "border": null,
            "bottom": null,
            "display": null,
            "flex": null,
            "flex_flow": null,
            "grid_area": null,
            "grid_auto_columns": null,
            "grid_auto_flow": null,
            "grid_auto_rows": null,
            "grid_column": null,
            "grid_gap": null,
            "grid_row": null,
            "grid_template_areas": null,
            "grid_template_columns": null,
            "grid_template_rows": null,
            "height": null,
            "justify_content": null,
            "justify_items": null,
            "left": null,
            "margin": null,
            "max_height": null,
            "max_width": null,
            "min_height": null,
            "min_width": null,
            "object_fit": null,
            "object_position": null,
            "order": null,
            "overflow": null,
            "overflow_x": null,
            "overflow_y": null,
            "padding": null,
            "right": null,
            "top": null,
            "visibility": null,
            "width": null
          }
        },
        "d496bb873a844eb09d900bca7f363c5b": {
          "model_module": "@jupyter-widgets/controls",
          "model_name": "ProgressStyleModel",
          "model_module_version": "1.5.0",
          "state": {
            "_model_module": "@jupyter-widgets/controls",
            "_model_module_version": "1.5.0",
            "_model_name": "ProgressStyleModel",
            "_view_count": null,
            "_view_module": "@jupyter-widgets/base",
            "_view_module_version": "1.2.0",
            "_view_name": "StyleView",
            "bar_color": null,
            "description_width": ""
          }
        },
        "72f41de447344a2cb9b853b503f67a65": {
          "model_module": "@jupyter-widgets/base",
          "model_name": "LayoutModel",
          "model_module_version": "1.2.0",
          "state": {
            "_model_module": "@jupyter-widgets/base",
            "_model_module_version": "1.2.0",
            "_model_name": "LayoutModel",
            "_view_count": null,
            "_view_module": "@jupyter-widgets/base",
            "_view_module_version": "1.2.0",
            "_view_name": "LayoutView",
            "align_content": null,
            "align_items": null,
            "align_self": null,
            "border": null,
            "bottom": null,
            "display": null,
            "flex": null,
            "flex_flow": null,
            "grid_area": null,
            "grid_auto_columns": null,
            "grid_auto_flow": null,
            "grid_auto_rows": null,
            "grid_column": null,
            "grid_gap": null,
            "grid_row": null,
            "grid_template_areas": null,
            "grid_template_columns": null,
            "grid_template_rows": null,
            "height": null,
            "justify_content": null,
            "justify_items": null,
            "left": null,
            "margin": null,
            "max_height": null,
            "max_width": null,
            "min_height": null,
            "min_width": null,
            "object_fit": null,
            "object_position": null,
            "order": null,
            "overflow": null,
            "overflow_x": null,
            "overflow_y": null,
            "padding": null,
            "right": null,
            "top": null,
            "visibility": null,
            "width": null
          }
        },
        "8a8f40b4574f4d77a8b2ed031f0d3b56": {
          "model_module": "@jupyter-widgets/controls",
          "model_name": "DescriptionStyleModel",
          "model_module_version": "1.5.0",
          "state": {
            "_model_module": "@jupyter-widgets/controls",
            "_model_module_version": "1.5.0",
            "_model_name": "DescriptionStyleModel",
            "_view_count": null,
            "_view_module": "@jupyter-widgets/base",
            "_view_module_version": "1.2.0",
            "_view_name": "StyleView",
            "description_width": ""
          }
        }
      }
    }
  },
  "cells": [
    {
      "cell_type": "markdown",
      "metadata": {
        "id": "view-in-github",
        "colab_type": "text"
      },
      "source": [
        "<a href=\"https://colab.research.google.com/github/dhinesh2022h/chatbox1/blob/1st_div/chat1.ipynb\" target=\"_parent\"><img src=\"https://colab.research.google.com/assets/colab-badge.svg\" alt=\"Open In Colab\"/></a>"
      ]
    },
    {
      "cell_type": "code",
      "source": [
        "!pip -qqq install pip --progress-bar off\n",
        "!pip -qqq install langchain-groq==0.1.3 --progress-bar off\n",
        "!pip -qqq install langchain==0.1.17 --progress-bar off\n",
        "!pip -qqq install llama-parse==0.1.3 --progress-bar off\n",
        "!pip -qqq install qdrant-client==1.9.1  --progress-bar off\n",
        "!pip -qqq install \"unstructured[md]\"==0.13.6 --progress-bar off\n",
        "!pip -qqq install fastembed==0.2.7 --progress-bar off\n",
        "!pip -qqq install flashrank==0.2.4 --progress-bar off"
      ],
      "metadata": {
        "colab": {
          "base_uri": "https://localhost:8080/"
        },
        "id": "oZCoKAp0W0iR",
        "outputId": "d7674ce3-a15e-4fb4-8e71-a07da6e9dde7"
      },
      "execution_count": 1,
      "outputs": [
        {
          "output_type": "stream",
          "name": "stdout",
          "text": [
            "\u001b[31mERROR: pip's dependency resolver does not currently take into account all the packages that are installed. This behaviour is the source of the following dependency conflicts.\n",
            "cudf-cu12 24.4.1 requires protobuf<5,>=3.20, but you have protobuf 5.28.2 which is incompatible.\n",
            "google-ai-generativelanguage 0.6.6 requires protobuf!=3.20.0,!=3.20.1,!=4.21.0,!=4.21.1,!=4.21.2,!=4.21.3,!=4.21.4,!=4.21.5,<5.0.0dev,>=3.19.5, but you have protobuf 5.28.2 which is incompatible.\n",
            "google-cloud-datastore 2.19.0 requires protobuf!=3.20.0,!=3.20.1,!=4.21.0,!=4.21.1,!=4.21.2,!=4.21.3,!=4.21.4,!=4.21.5,<5.0.0dev,>=3.19.5, but you have protobuf 5.28.2 which is incompatible.\n",
            "google-cloud-firestore 2.16.1 requires protobuf!=3.20.0,!=3.20.1,!=4.21.0,!=4.21.1,!=4.21.2,!=4.21.3,!=4.21.4,!=4.21.5,<5.0.0dev,>=3.19.5, but you have protobuf 5.28.2 which is incompatible.\n",
            "tensorboard 2.17.0 requires protobuf!=4.24.0,<5.0.0,>=3.19.6, but you have protobuf 5.28.2 which is incompatible.\n",
            "tensorflow 2.17.0 requires protobuf!=4.21.0,!=4.21.1,!=4.21.2,!=4.21.3,!=4.21.4,!=4.21.5,<5.0.0dev,>=3.20.3, but you have protobuf 5.28.2 which is incompatible.\n",
            "tensorflow-metadata 1.15.0 requires protobuf<4.21,>=3.20.3; python_version < \"3.11\", but you have protobuf 5.28.2 which is incompatible.\u001b[0m\u001b[31m\n",
            "\u001b[0m  Preparing metadata (setup.py) ... \u001b[?25l\u001b[?25hdone\n",
            "  Building wheel for langdetect (setup.py) ... \u001b[?25l\u001b[?25hdone\n",
            "\u001b[31mERROR: pip's dependency resolver does not currently take into account all the packages that are installed. This behaviour is the source of the following dependency conflicts.\n",
            "accelerate 0.34.2 requires huggingface-hub>=0.21.0, but you have huggingface-hub 0.20.3 which is incompatible.\n",
            "transformers 4.44.2 requires huggingface-hub<1.0,>=0.23.2, but you have huggingface-hub 0.20.3 which is incompatible.\n",
            "transformers 4.44.2 requires tokenizers<0.20,>=0.19, but you have tokenizers 0.15.2 which is incompatible.\u001b[0m\u001b[31m\n",
            "\u001b[0m  Installing build dependencies ... \u001b[?25l\u001b[?25hdone\n",
            "  Getting requirements to build wheel ... \u001b[?25l\u001b[?25hdone\n",
            "  Installing backend dependencies ... \u001b[?25l\u001b[?25hdone\n",
            "  Preparing metadata (pyproject.toml) ... \u001b[?25l\u001b[?25hdone\n",
            "  Building wheel for llama-cpp-python (pyproject.toml) ... \u001b[?25l\u001b[?25hdone\n"
          ]
        }
      ]
    },
    {
      "cell_type": "code",
      "source": [
        "import os\n",
        "import textwrap\n",
        "from pathlib import Path\n",
        "\n",
        "from google.colab import userdata\n",
        "from IPython.display import Markdown\n",
        "from langchain.chains import RetrievalQA\n",
        "from langchain.prompts import PromptTemplate\n",
        "from langchain.retrievers import ContextualCompressionRetriever\n",
        "from langchain.retrievers.document_compressors import FlashrankRerank\n",
        "from langchain.text_splitter import RecursiveCharacterTextSplitter\n",
        "from langchain.vectorstores import Qdrant\n",
        "from langchain_community.document_loaders import UnstructuredMarkdownLoader\n",
        "from langchain_community.embeddings.fastembed import FastEmbedEmbeddings\n",
        "from langchain_core.prompts import ChatPromptTemplate\n",
        "from langchain_groq import ChatGroq\n",
        "from llama_parse import LlamaParse\n",
        "\n",
        "os.environ[\"GROQ_API_KEY\"] = \"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\" #CHANGE API KEY, USE YOUR OWN\n",
        "\n",
        "\n",
        "def print_response(response):\n",
        "    response_txt = response[\"result\"]\n",
        "    for chunk in response_txt.split(\"\\n\"):\n",
        "        if not chunk:\n",
        "            print()\n",
        "            continue\n",
        "        print(\"\\n\".join(textwrap.wrap(chunk, 100, break_long_words=False)))"
      ],
      "metadata": {
        "id": "MSmDVL_tX_TU"
      },
      "execution_count": 2,
      "outputs": []
    },
    {
      "cell_type": "code",
      "source": [
        "!mkdir data\n",
        "!gdown 18ODzbpu4bugyitbxqExsDyOCC2tS7BNj -O \"data/rpp.pdf\""
      ],
      "metadata": {
        "colab": {
          "base_uri": "https://localhost:8080/"
        },
        "id": "LHmhrV_xYGGM",
        "outputId": "6a15e25c-6af5-4b7f-eb0a-593779512efe"
      },
      "execution_count": 3,
      "outputs": [
        {
          "output_type": "stream",
          "name": "stdout",
          "text": [
            "Downloading...\n",
            "From: https://drive.google.com/uc?id=18ODzbpu4bugyitbxqExsDyOCC2tS7BNj\n",
            "To: /content/data/rpp.pdf\n",
            "\r  0% 0.00/72.3k [00:00<?, ?B/s]\r100% 72.3k/72.3k [00:00<00:00, 91.5MB/s]\n"
          ]
        }
      ]
    },
    {
      "cell_type": "code",
      "source": [
        "import os\n",
        "\n",
        "# Replace 'your_llama_parse_api_key_here' with your actual LLAMA_PARSE API key\n",
        "os.environ[\"LLAMA_PARSE_API_KEY\"] = \"llx-lbjHUrKtdjTCfGU63zizgSlnY7innSdf9RfUPgfMpLtutE0L\"   #CHANGE API KEY USE YOUR OWN !!!!+"
      ],
      "metadata": {
        "id": "xC0eJEN_YI9j"
      },
      "execution_count": 4,
      "outputs": []
    },
    {
      "cell_type": "code",
      "source": [
        "# instruction = \"\"\"The provided document is NVIDIA's First Quarter Fiscal 2024 Financial Results.\n",
        "# This is a press release that provides detailed financial information about NVIDIA's performance for the first quarter of its fiscal year 2024.\n",
        "# It includes unaudited financial statements, management's commentary, highlights of key developments, and disclosures related to NVIDIA's outlook for the next quarter.\n",
        "#  The document contains many financial tables and figures. Try to be precise while answering questions based on the information in this press release.\"\"\"\n",
        "\n",
        "instruction = \"\"\"The provided document contains detailed financial information, including unaudited financial statements, management commentary, key highlights, and outlook disclosures related to a company's performance for a specific fiscal period. The document may contain various financial tables, figures, and data points. When answering questions based on the information in this document, strive to provide accurate and precise\n",
        "responses by carefully referencing the relevant data and details presented in the document.\"\"\"\n",
        "\n",
        "parser = LlamaParse(\n",
        "    api_key=os.getenv(\"LLAMA_PARSE_API_KEY\"),\n",
        "    result_type=\"markdown\",\n",
        "    parsing_instruction=instruction,\n",
        "    max_timeout=5000,\n",
        ")\n",
        "\n",
        "llama_parse_documents = await parser.aload_data(\"./data/rpp.pdf\")"
      ],
      "metadata": {
        "colab": {
          "base_uri": "https://localhost:8080/"
        },
        "id": "LPqOk7lvYNxF",
        "outputId": "0bda1f72-1ab4-4d5c-beea-e427de0ea013"
      },
      "execution_count": 5,
      "outputs": [
        {
          "output_type": "stream",
          "name": "stdout",
          "text": [
            "Started parsing the file under job_id 23552941-1335-4331-9fc1-a8bfe3802a12\n"
          ]
        }
      ]
    },
    {
      "cell_type": "code",
      "source": [
        "parsed_doc = llama_parse_documents[0]"
      ],
      "metadata": {
        "id": "MyZUdqDHYXOB"
      },
      "execution_count": 6,
      "outputs": []
    },
    {
      "cell_type": "code",
      "source": [
        "Markdown(parsed_doc.text[:4096])"
      ],
      "metadata": {
        "colab": {
          "base_uri": "https://localhost:8080/",
          "height": 1000
        },
        "id": "-MXzqdfGYZUp",
        "outputId": "c5909f4d-42b6-421c-a117-8ffa836680ba"
      },
      "execution_count": 7,
      "outputs": [
        {
          "output_type": "execute_result",
          "data": {
            "text/plain": [
              "<IPython.core.display.Markdown object>"
            ],
            "text/markdown": "# NVIDIA Announces Financial Results for First Quarter Fiscal 2024\n\nQuarterly revenue of $7.19 billion, up 19% from previous quarter\n\nRecord Data Center revenue of $4.28 billion\n\nSecond quarter fiscal 2024 revenue outlook of $11.00 billion\n\nNVIDIA (NASDAQ: NVDA) today reported revenue for the first quarter ended April 30, 2023, of $7.19 billion, down 13% from a year ago and up 19% from the previous quarter.\n\nGAAP earnings per diluted share for the quarter were $0.82, up 28% from a year ago and up 44% from the previous quarter. Non-GAAP earnings per diluted share were $1.09, down 20% from a year ago and up 24% from the previous quarter.\n\n“The computer industry is going through two simultaneous transitions — accelerated computing and generative AI,” said Jensen Huang, founder and CEO of NVIDIA.\n\n“A trillion dollars of installed global data center infrastructure will transition from general purpose to accelerated computing as companies race to apply generative AI into every product, service and business process.\n\n“Our entire data center family of products — H100, Grace CPU, Grace Hopper Superchip, NVLink, Quantum 400 InfiniBand and BlueField-3 DPU — is in production. We are significantly increasing our supply to meet surging demand for them,” he said.\n\nDuring the first quarter of fiscal 2024, NVIDIA returned to shareholders $99 million in cash dividends.\n\nNVIDIA will pay its next quarterly cash dividend of $0.04 per share on June 30, 2023, to all shareholders of record on June 8, 2023.\n\n# Q1 Fiscal 2024 Summary\n\n|GAAP|($ in millions, except earnings per share)| | | | |\n|---|---|---|---|---|---|\n| |Q1 FY24|Q4 FY23|Q1 FY23|Q/Q|Y/Y|\n|Revenue|$ 7,192|$ 6,051|$ 8,288|Up 19%|Down 13%|\n|Gross margin|64.6%|63.3%|65.5%|Up 1.3 pts|Down 0.9 pts|\n|Operating expenses|$ 2,508|$ 2,576|$ 3,563|Down 3%|Down 30%|\n|Operating income|$ 2,140|$ 1,257|$ 1,868|Up 70%|Up 15%|\n|Net income|$ 2,043|$ 1,414|$ 1,618|Up 44%|Up 26%|\n|Diluted earnings per share|$ 0.82|$ 0.57|$ 0.64|Up 44%|Up 28%|\n\n|Non-GAAP|($ in millions, except earnings per share)|($ in millions, except earnings per share)|($ in millions, except earnings per share)|($ in millions, except earnings per share)| | | | |\n|---|---|---|---|---|---|\n|Q1 FY24|Q4 FY23|Q1 FY23|Q/Q|Y/Y| |\n|Revenue|$ 7,192|$ 6,051|$ 8,288|Up 19%|Down 13%|\n|Gross margin|66.8%|66.1%|67.1%|Up 0.7 pts|Down 0.3 pts|\n|Operating expenses|$ 1,750|$ 1,775|$ 1,608|Down 1%|Up 9%|\n|Operating income|$ 3,052|$ 2,224|$ 3,955|Up 37%|Down 23%|\n|Net income|$ 2,713|$ 2,174|$ 3,443|Up 25%|Down 21%|\n|Diluted earnings per share|$ 1.09|$ 0.88|$ 1.36|Up 24%|Down 20%|\n\n# Outlook\n\nNVIDIA’s outlook for the second quarter of fiscal 2024 is as follows:\n---\n# Financial Overview\n\nRevenue is expected to be $11.00 billion, plus or minus 2%. GAAP and non-GAAP gross margins are expected to be 68.6% and 70.0%, respectively, plus or minus 50 basis points. GAAP and non-GAAP operating expenses are expected to be approximately $2.71 billion and $1.90 billion, respectively. GAAP and non-GAAP other income and expense are expected to be an income of approximately $90 million, excluding gains and losses from non-affiliated investments. GAAP and non-GAAP tax rates are expected to be 14.0%, plus or minus 1%, excluding any discrete items.\n\n# Highlights\n\n# Data Center\n\nFirst-quarter revenue was a record $4.28 billion, up 14% from a year ago and up 18% from the previous quarter. Launched four inference platforms that combine the company’s full-stack inference software with the latest NVIDIA Ada, NVIDIA Hopper™ and NVIDIA Grace Hopper™ processors. Announced that Google Cloud is the first cloud provider offering the new NVIDIA L4 Tensor Core GPU to accelerate generative AI applications. Introduced NVIDIA AI Foundations to help businesses create and operate custom large language models and generative AI models trained with their own proprietary data for domain-specific tasks. Unveiled the NVIDIA cuLitho software library for computational lithography to accelerate the design and manufacturing of next-gen semiconductors. Expanded its partners offering new products and s"
          },
          "metadata": {},
          "execution_count": 7
        }
      ]
    },
    {
      "cell_type": "markdown",
      "source": [
        "NVIDIA Announces Financial Results for First Quarter Fiscal 2024\n",
        "Quarterly revenue of $7.19 billion, up 19% from previous quarter\n",
        "\n",
        "Record Data Center revenue of $4.28 billion\n",
        "\n",
        "Second quarter fiscal 2024 revenue outlook of $11.00 billion\n",
        "\n",
        "NVIDIA (NASDAQ: NVDA) today reported revenue for the first quarter ended April 30, 2023, of $7.19 billion, down 13% from a year ago and up 19% from the previous quarter.\n",
        "\n",
        "GAAP earnings per diluted share for the quarter were\n",
        "0.82\n",
        ",\n",
        "u\n",
        "p\n",
        "28\n",
        "0.82,up281.09, down 20% from a year ago and up 24% from the previous quarter.\n",
        "\n",
        "“The computer industry is going through two simultaneous transitions — accelerated computing and generative AI,” said Jensen Huang, founder and CEO of NVIDIA.\n",
        "\n",
        "“A trillion dollars of installed global data center infrastructure will transition from general purpose to accelerated computing as companies race to apply generative AI into every product, service and business process.\n",
        "\n",
        "“Our entire data center family of products — H100, Grace CPU, Grace Hopper Superchip, NVLink, Quantum 400 InfiniBand and BlueField-3 DPU — is in production. We are significantly increasing our supply to meet surging demand for them,” he said.\n",
        "\n",
        "During the first quarter of fiscal 2024, NVIDIA returned to shareholders $99 million in cash dividends.\n",
        "\n",
        "NVIDIA will pay its next quarterly cash dividend of $0.04 per share on June 30, 2023, to all shareholders of record on June 8, 2023.\n",
        "\n",
        "Q1 Fiscal 2024 Summary\n",
        "|GAAP|(\n",
        "i\n",
        "n\n",
        "m\n",
        "i\n",
        "l\n",
        "l\n",
        "i\n",
        "o\n",
        "n\n",
        "s\n",
        ",\n",
        "e\n",
        "x\n",
        "c\n",
        "e\n",
        "p\n",
        "t\n",
        "e\n",
        "a\n",
        "r\n",
        "n\n",
        "i\n",
        "n\n",
        "g\n",
        "s\n",
        "p\n",
        "e\n",
        "r\n",
        "s\n",
        "h\n",
        "a\n",
        "r\n",
        "e\n",
        ")\n",
        "∣\n",
        "∣\n",
        "∣\n",
        "∣\n",
        "∣\n",
        "∣\n",
        "−\n",
        "−\n",
        "−\n",
        "∣\n",
        "−\n",
        "−\n",
        "−\n",
        "∣\n",
        "−\n",
        "−\n",
        "−\n",
        "∣\n",
        "−\n",
        "−\n",
        "−\n",
        "∣\n",
        "−\n",
        "−\n",
        "−\n",
        "∣\n",
        "−\n",
        "−\n",
        "−\n",
        "∣\n",
        "∣\n",
        "∣\n",
        "Q\n",
        "1\n",
        "F\n",
        "Y\n",
        "24\n",
        "∣\n",
        "Q\n",
        "4\n",
        "F\n",
        "Y\n",
        "23\n",
        "∣\n",
        "Q\n",
        "1\n",
        "F\n",
        "Y\n",
        "23\n",
        "∣\n",
        "Q\n",
        "/\n",
        "Q\n",
        "∣\n",
        "Y\n",
        "/\n",
        "Y\n",
        "∣\n",
        "∣\n",
        "R\n",
        "e\n",
        "v\n",
        "e\n",
        "n\n",
        "u\n",
        "e\n",
        "∣\n",
        "inmillions,exceptearningspershare)∣∣∣∣∣∣−−−∣−−−∣−−−∣−−−∣−−−∣−−−∣∣∣Q1FY24∣Q4FY23∣Q1FY23∣Q/Q∣Y/Y∣∣Revenue∣ 7,192|\n",
        "6\n",
        ",\n",
        "051\n",
        "∣\n",
        "6,051∣ 8,288|Up 19%|Down 13%| |Gross margin|64.6%|63.3%|65.5%|Up 1.3 pts|Down 0.9 pts| |Operating expenses|\n",
        "2\n",
        ",\n",
        "508\n",
        "∣\n",
        "2,508∣ 2,576|\n",
        "3\n",
        ",\n",
        "563\n",
        "∣\n",
        "D\n",
        "o\n",
        "w\n",
        "n\n",
        "3\n",
        "∣\n",
        "O\n",
        "p\n",
        "e\n",
        "r\n",
        "a\n",
        "t\n",
        "i\n",
        "n\n",
        "g\n",
        "i\n",
        "n\n",
        "c\n",
        "o\n",
        "m\n",
        "e\n",
        "∣\n",
        "3,563∣Down3∣Operatingincome∣ 2,140|\n",
        "1\n",
        ",\n",
        "257\n",
        "∣\n",
        "1,257∣ 1,868|Up 70%|Up 15%| |Net income|\n",
        "2\n",
        ",\n",
        "043\n",
        "∣\n",
        "2,043∣ 1,414|\n",
        "1\n",
        ",\n",
        "618\n",
        "∣\n",
        "U\n",
        "p\n",
        "44\n",
        "∣\n",
        "D\n",
        "i\n",
        "l\n",
        "u\n",
        "t\n",
        "e\n",
        "d\n",
        "e\n",
        "a\n",
        "r\n",
        "n\n",
        "i\n",
        "n\n",
        "g\n",
        "s\n",
        "p\n",
        "e\n",
        "r\n",
        "s\n",
        "h\n",
        "a\n",
        "r\n",
        "e\n",
        "∣\n",
        "1,618∣Up44∣Dilutedearningspershare∣ 0.82|\n",
        "0.57\n",
        "∣\n",
        "0.57∣ 0.64|Up 44%|Up 28%|\n",
        "\n",
        "|Non-GAAP|(\n",
        "i\n",
        "n\n",
        "m\n",
        "i\n",
        "l\n",
        "l\n",
        "i\n",
        "o\n",
        "n\n",
        "s\n",
        ",\n",
        "e\n",
        "x\n",
        "c\n",
        "e\n",
        "p\n",
        "t\n",
        "e\n",
        "a\n",
        "r\n",
        "n\n",
        "i\n",
        "n\n",
        "g\n",
        "s\n",
        "p\n",
        "e\n",
        "r\n",
        "s\n",
        "h\n",
        "a\n",
        "r\n",
        "e\n",
        ")\n",
        "∣\n",
        "(\n",
        "inmillions,exceptearningspershare)∣( in millions, except earnings per share)|(\n",
        "i\n",
        "n\n",
        "m\n",
        "i\n",
        "l\n",
        "l\n",
        "i\n",
        "o\n",
        "n\n",
        "s\n",
        ",\n",
        "e\n",
        "x\n",
        "c\n",
        "e\n",
        "p\n",
        "t\n",
        "e\n",
        "a\n",
        "r\n",
        "n\n",
        "i\n",
        "n\n",
        "g\n",
        "s\n",
        "p\n",
        "e\n",
        "r\n",
        "s\n",
        "h\n",
        "a\n",
        "r\n",
        "e\n",
        ")\n",
        "∣\n",
        "(\n",
        "inmillions,exceptearningspershare)∣( in millions, except earnings per share)| | | | | |---|---|---|---|---|---| |Q1 FY24|Q4 FY23|Q1 FY23|Q/Q|Y/Y| | |Revenue|\n",
        "7\n",
        ",\n",
        "192\n",
        "∣\n",
        "7,192∣ 6,051|\n",
        "8\n",
        ",\n",
        "288\n",
        "∣\n",
        "U\n",
        "p\n",
        "19\n",
        "∣\n",
        "G\n",
        "r\n",
        "o\n",
        "s\n",
        "s\n",
        "m\n",
        "a\n",
        "r\n",
        "g\n",
        "i\n",
        "n\n",
        "∣\n",
        "66.8\n",
        "∣\n",
        "O\n",
        "p\n",
        "e\n",
        "r\n",
        "a\n",
        "t\n",
        "i\n",
        "n\n",
        "g\n",
        "e\n",
        "x\n",
        "p\n",
        "e\n",
        "n\n",
        "s\n",
        "e\n",
        "s\n",
        "∣\n",
        "8,288∣Up19∣Grossmargin∣66.8∣Operatingexpenses∣ 1,750|\n",
        "1\n",
        ",\n",
        "775\n",
        "∣\n",
        "1,775∣ 1,608|Down 1%|Up 9%| |Operating income|\n",
        "3\n",
        ",\n",
        "052\n",
        "∣\n",
        "3,052∣ 2,224|\n",
        "3\n",
        ",\n",
        "955\n",
        "∣\n",
        "U\n",
        "p\n",
        "37\n",
        "∣\n",
        "N\n",
        "e\n",
        "t\n",
        "i\n",
        "n\n",
        "c\n",
        "o\n",
        "m\n",
        "e\n",
        "∣\n",
        "3,955∣Up37∣Netincome∣ 2,713|\n",
        "2\n",
        ",\n",
        "174\n",
        "∣\n",
        "2,174∣ 3,443|Up 25%|Down 21%| |Diluted earnings per share|\n",
        "1.09\n",
        "∣\n",
        "1.09∣ 0.88|$ 1.36|Up 24%|Down 20%|\n",
        "\n",
        "Outlook\n",
        "NVIDIA’s outlook for the second quarter of fiscal 2024 is as follows:\n",
        "Financial Overview\n",
        "Revenue is expected to be\n",
        "11.00\n",
        "b\n",
        "i\n",
        "l\n",
        "l\n",
        "i\n",
        "o\n",
        "n\n",
        ",\n",
        "p\n",
        "l\n",
        "u\n",
        "s\n",
        "o\n",
        "r\n",
        "m\n",
        "i\n",
        "n\n",
        "u\n",
        "s\n",
        "2\n",
        "11.00billion,plusorminus22.71 billion and\n",
        "1.90\n",
        "b\n",
        "i\n",
        "l\n",
        "l\n",
        "i\n",
        "o\n",
        "n\n",
        ",\n",
        "r\n",
        "e\n",
        "s\n",
        "p\n",
        "e\n",
        "c\n",
        "t\n",
        "i\n",
        "v\n",
        "e\n",
        "l\n",
        "y\n",
        ".\n",
        "G\n",
        "A\n",
        "A\n",
        "P\n",
        "a\n",
        "n\n",
        "d\n",
        "n\n",
        "o\n",
        "n\n",
        "−\n",
        "G\n",
        "A\n",
        "A\n",
        "P\n",
        "o\n",
        "t\n",
        "h\n",
        "e\n",
        "r\n",
        "i\n",
        "n\n",
        "c\n",
        "o\n",
        "m\n",
        "e\n",
        "a\n",
        "n\n",
        "d\n",
        "e\n",
        "x\n",
        "p\n",
        "e\n",
        "n\n",
        "s\n",
        "e\n",
        "a\n",
        "r\n",
        "e\n",
        "e\n",
        "x\n",
        "p\n",
        "e\n",
        "c\n",
        "t\n",
        "e\n",
        "d\n",
        "t\n",
        "o\n",
        "b\n",
        "e\n",
        "a\n",
        "n\n",
        "i\n",
        "n\n",
        "c\n",
        "o\n",
        "m\n",
        "e\n",
        "o\n",
        "f\n",
        "a\n",
        "p\n",
        "p\n",
        "r\n",
        "o\n",
        "x\n",
        "i\n",
        "m\n",
        "a\n",
        "t\n",
        "e\n",
        "l\n",
        "y\n",
        "1.90billion,respectively.GAAPandnon−GAAPotherincomeandexpenseareexpectedtobeanincomeofapproximately90 million, excluding gains and losses from non-affiliated investments. GAAP and non-GAAP tax rates are expected to be 14.0%, plus or minus 1%, excluding any discrete items.\n",
        "\n",
        "Highlights\n",
        "Data Center\n",
        "First-quarter revenue was a record $4.28 billion, up 14% from a year ago and up 18% from the previous quarter. Launched four inference platforms that combine the company’s full-stack inference software with the latest NVIDIA Ada, NVIDIA Hopper™ and NVIDIA Grace Hopper™ processors. Announced that Google Cloud is the first cloud provider offering the new NVIDIA L4 Tensor Core GPU to accelerate generative AI applications. Introduced NVIDIA AI Foundations to help businesses create and operate custom large language models and generative AI models trained with their own proprietary data for domain-specific tasks. Unveiled the NVIDIA cuLitho software library for computational lithography to accelerate the design and manufacturing of next-gen semiconductors. Expanded its partners offering new products and s"
      ],
      "metadata": {
        "id": "smo7nRJBYh0m"
      }
    },
    {
      "cell_type": "code",
      "source": [
        "document_path = Path(\"data/parsed_document.md\")\n",
        "with document_path.open(\"a\") as f:\n",
        "    f.write(parsed_doc.text)"
      ],
      "metadata": {
        "id": "HsvPQpM4YbyX"
      },
      "execution_count": 8,
      "outputs": []
    },
    {
      "cell_type": "code",
      "source": [
        "loader = UnstructuredMarkdownLoader(document_path)\n",
        "loaded_documents = loader.load()"
      ],
      "metadata": {
        "colab": {
          "base_uri": "https://localhost:8080/"
        },
        "id": "82yP9IUoYp1r",
        "outputId": "7811011d-31f1-4a2d-aa47-31bdc8f1c573"
      },
      "execution_count": 9,
      "outputs": [
        {
          "output_type": "stream",
          "name": "stderr",
          "text": [
            "[nltk_data] Downloading package averaged_perceptron_tagger to\n",
            "[nltk_data]     /root/nltk_data...\n",
            "[nltk_data]   Unzipping taggers/averaged_perceptron_tagger.zip.\n"
          ]
        }
      ]
    },
    {
      "cell_type": "code",
      "source": [
        "text_splitter = RecursiveCharacterTextSplitter(chunk_size=2048, chunk_overlap=128)\n",
        "docs = text_splitter.split_documents(loaded_documents)\n",
        "len(docs)"
      ],
      "metadata": {
        "colab": {
          "base_uri": "https://localhost:8080/"
        },
        "id": "a6b927L6Yu5b",
        "outputId": "1cd32551-9667-461d-c870-263051acdc59"
      },
      "execution_count": 10,
      "outputs": [
        {
          "output_type": "execute_result",
          "data": {
            "text/plain": [
              "14"
            ]
          },
          "metadata": {},
          "execution_count": 10
        }
      ]
    },
    {
      "cell_type": "code",
      "source": [
        "#Downloading embeddings\n",
        "embeddings = FastEmbedEmbeddings(model_name=\"BAAI/bge-base-en-v1.5\")"
      ],
      "metadata": {
        "colab": {
          "base_uri": "https://localhost:8080/",
          "height": 333,
          "referenced_widgets": [
            "e69cbb569a70420e85263a6c775279e0",
            "08c928d2af274b5987cf47eb8abd0cfa",
            "8cec04a8072040d88753ef71a0fe0b3e",
            "956c5ccec5174e6084103ef576c66a31",
            "311b2680f8264b7f90bd84801146bce9",
            "f0e2ec61176740e897c34d163793f872",
            "98ddc6e167404e56bdc11f01881c5f12",
            "a07c5f04fe0e449c9266a4f439d5b0e6",
            "b87aaa0e8dc94528a75fb75c620bf53f",
            "9e70a3d10d64420786d382b16e2fbc57",
            "d0cf42030eb34a89a83fe88476aa2ee5",
            "359188a75aa74c10abd06901e85b5894",
            "9395dec693a941409321f74f5976dfc6",
            "51597fa51cab4b638ee8324bb9f0f267",
            "7f39c172e1774a4397c6a99c1d839f9c",
            "403b752c822a4f079e71b515d6d105c7",
            "5fee324fa9bf423a91e3ce8c6f3e1b88",
            "7bdbde6fab9e404c8bf89ef4ad1d925e",
            "a4300844e28245d5bd8d72c018c1d8d4",
            "8fda72cfa92740dda92618578ad11548",
            "72d912f1fd8748e5bf585f526cd94c7b",
            "083a62c3f4af4534af79cdc697e1dcfc",
            "ee79644b3eb84d6894e402d6ab280308",
            "2435ee51268a4fecaf7a802b432733ff",
            "4b3dec52064045768036f18d41ab53a3",
            "64c3a75254f14baeab96b51ac051c028",
            "3381dbafb35b4aba8f3f29dd95b41286",
            "3267df4961af4fccb8a951dc9cfdb14e",
            "d574b99ff25842d4b7134a7f224aa213",
            "f01e668d90d34bec84230d78b5acb404",
            "cfd98da7fad64e319c377dbfc6532354",
            "4742b3e387a8459d9aa478947312aafb",
            "6d23cda5c1cf40e89ba84a64591649d3",
            "9542907c432f488a8aa515695f846a3f",
            "dbc09f726f0e41cab9958c921dd369d7",
            "b71fa87fa31c4f0996adee5cda582ed6",
            "a46087c0c969406ea5bacfc11928639e",
            "8688c32c6d454ac2ad9d60f07f709bb9",
            "a85e9595655742ffacd61b1e77a1c426",
            "fe34dccebc474d13b4740f5dfabceb0d",
            "4abb9928ca3c4e678a7142c6eb2f19ab",
            "c620b15d117749d68ff3efa8121b873f",
            "65f2458e5dff4de1b06efb8a1d973bdd",
            "e2e52648b5974a5ab702cd7577573663",
            "2e8160664f8e4a2991c3e3a5c7b3501e",
            "9e286e8b3df34c70a38b419952be4944",
            "91ab163411fa4f0bb96f921f522a3839",
            "6de63633c6934314b0fdf2bcb6174ea6",
            "c2781d487b1f47cbb8fc2775b8613b87",
            "0066c3e11b4b4ef49fd87c28b08a4185",
            "3320ca7ddf7d47159a1c4faafa17e3e8",
            "6d1dbc0717ed444db81954b29cfa5ffc",
            "060617ef76a1410a8ef23e3f0fd17764",
            "9f0e3d3331fa4e90a5334edbdb5f4156",
            "47d5665177da4f97a84dca47ec984225",
            "d27adf6d111a498498fe8bf584880798",
            "a55c5995174e454b889e5e365cd6d5be",
            "6da3cc1bfa624229afdcee54ac06b0c6",
            "98c02a24b24e4077822f9c8214cfbf9b",
            "73b60f95d27b498b96524b5b89cc7e1a",
            "53ffb1dadcf349738689fd2ffb274ba9",
            "406ae631c49f452faa3aca55247a04d1",
            "126594c6bf3044908b1cd9ae0d03688e",
            "d496bb873a844eb09d900bca7f363c5b",
            "72f41de447344a2cb9b853b503f67a65",
            "8a8f40b4574f4d77a8b2ed031f0d3b56"
          ]
        },
        "id": "qlBci_ahYw2d",
        "outputId": "2c429013-da3a-4dad-d912-24c87a2cf66a"
      },
      "execution_count": 11,
      "outputs": [
        {
          "output_type": "stream",
          "name": "stderr",
          "text": [
            "/usr/local/lib/python3.10/dist-packages/huggingface_hub/utils/_token.py:88: UserWarning: \n",
            "The secret `HF_TOKEN` does not exist in your Colab secrets.\n",
            "To authenticate with the Hugging Face Hub, create a token in your settings tab (https://huggingface.co/settings/tokens), set it as secret in your Google Colab and restart your session.\n",
            "You will be able to reuse this secret in all of your notebooks.\n",
            "Please note that authentication is recommended but still optional to access public models or datasets.\n",
            "  warnings.warn(\n"
          ]
        },
        {
          "output_type": "display_data",
          "data": {
            "text/plain": [
              "Fetching 5 files:   0%|          | 0/5 [00:00<?, ?it/s]"
            ],
            "application/vnd.jupyter.widget-view+json": {
              "version_major": 2,
              "version_minor": 0,
              "model_id": "e69cbb569a70420e85263a6c775279e0"
            }
          },
          "metadata": {}
        },
        {
          "output_type": "display_data",
          "data": {
            "text/plain": [
              "model_optimized.onnx:   0%|          | 0.00/218M [00:00<?, ?B/s]"
            ],
            "application/vnd.jupyter.widget-view+json": {
              "version_major": 2,
              "version_minor": 0,
              "model_id": "359188a75aa74c10abd06901e85b5894"
            }
          },
          "metadata": {}
        },
        {
          "output_type": "display_data",
          "data": {
            "text/plain": [
              "tokenizer_config.json:   0%|          | 0.00/1.24k [00:00<?, ?B/s]"
            ],
            "application/vnd.jupyter.widget-view+json": {
              "version_major": 2,
              "version_minor": 0,
              "model_id": "ee79644b3eb84d6894e402d6ab280308"
            }
          },
          "metadata": {}
        },
        {
          "output_type": "display_data",
          "data": {
            "text/plain": [
              "special_tokens_map.json:   0%|          | 0.00/695 [00:00<?, ?B/s]"
            ],
            "application/vnd.jupyter.widget-view+json": {
              "version_major": 2,
              "version_minor": 0,
              "model_id": "9542907c432f488a8aa515695f846a3f"
            }
          },
          "metadata": {}
        },
        {
          "output_type": "display_data",
          "data": {
            "text/plain": [
              "tokenizer.json:   0%|          | 0.00/711k [00:00<?, ?B/s]"
            ],
            "application/vnd.jupyter.widget-view+json": {
              "version_major": 2,
              "version_minor": 0,
              "model_id": "2e8160664f8e4a2991c3e3a5c7b3501e"
            }
          },
          "metadata": {}
        },
        {
          "output_type": "display_data",
          "data": {
            "text/plain": [
              "config.json:   0%|          | 0.00/740 [00:00<?, ?B/s]"
            ],
            "application/vnd.jupyter.widget-view+json": {
              "version_major": 2,
              "version_minor": 0,
              "model_id": "d27adf6d111a498498fe8bf584880798"
            }
          },
          "metadata": {}
        }
      ]
    },
    {
      "cell_type": "code",
      "source": [
        "qdrant = Qdrant.from_documents(\n",
        "    docs,\n",
        "    embeddings,\n",
        "    # location=\":memory:\",\n",
        "    path=\"./db\",\n",
        "    collection_name=\"document_embeddings\",\n",
        ")"
      ],
      "metadata": {
        "id": "lNtButOpZAFp"
      },
      "execution_count": 12,
      "outputs": []
    },
    {
      "cell_type": "code",
      "source": [
        "%%time\n",
        "# query = \"What is the most important innovation from Nvidia?\"\n",
        "query = \"What is the most important innovation from Nvidia?\"\n",
        "similar_docs = qdrant.similarity_search_with_score(query)"
      ],
      "metadata": {
        "colab": {
          "base_uri": "https://localhost:8080/"
        },
        "id": "GwfGJWv5ZDP9",
        "outputId": "b0f2f92a-62e4-461f-a68e-c6864892d24d"
      },
      "execution_count": 13,
      "outputs": [
        {
          "output_type": "stream",
          "name": "stdout",
          "text": [
            "CPU times: user 257 ms, sys: 3.96 ms, total: 261 ms\n",
            "Wall time: 260 ms\n"
          ]
        }
      ]
    },
    {
      "cell_type": "code",
      "source": [
        "for doc, score in similar_docs:\n",
        "    print(f\"text: {doc.page_content[:256]}\\n\")\n",
        "    print(f\"score: {score}\")\n",
        "    print(\"-\" * 80)\n",
        "    print()"
      ],
      "metadata": {
        "colab": {
          "base_uri": "https://localhost:8080/"
        },
        "id": "9XstwgAlZLE9",
        "outputId": "091ad7ef-92f4-495a-cf88-89d2e2fe6d26"
      },
      "execution_count": 15,
      "outputs": [
        {
          "output_type": "stream",
          "name": "stdout",
          "text": [
            "text: About NVIDIA\n",
            "\n",
            "Since its founding in 1993, NVIDIA (NASDAQ: NVDA) has been a pioneer in accelerated computing. The company’s invention of the GPU in 1999 sparked the growth of the PC gaming market, redefined computer graphics, ignited the era of modern AI an\n",
            "\n",
            "score: 0.7292278710122307\n",
            "--------------------------------------------------------------------------------\n",
            "\n",
            "text: Certain statements in this press release including, but not limited to, statements as to: the computer industry going through two simultaneous transitions – accelerated computing and generative AI; installed global data center infrastructure transitioning \n",
            "\n",
            "score: 0.6592127004498537\n",
            "--------------------------------------------------------------------------------\n",
            "\n",
            "text: Highlights\n",
            "\n",
            "Data Center\n",
            "\n",
            "First-quarter revenue was a record $4.28 billion, up 14% from a year ago and up 18% from the previous quarter. Launched four inference platforms that combine the company’s full-stack inference software with the latest NVIDIA Ada, N\n",
            "\n",
            "score: 0.6480123958796185\n",
            "--------------------------------------------------------------------------------\n",
            "\n",
            "text: and are available from NVIDIA without charge. These forward-looking statements are not guarantees of future performance and speak only as of the date hereof, and, except as required by law, NVIDIA disclaims any obligation to update these forward-looking st\n",
            "\n",
            "score: 0.6318323113418012\n",
            "--------------------------------------------------------------------------------\n",
            "\n"
          ]
        }
      ]
    },
    {
      "cell_type": "code",
      "source": [
        "%%time\n",
        "retriever = qdrant.as_retriever(search_kwargs={\"k\": 5})\n",
        "retrieved_docs = retriever.invoke(query)"
      ],
      "metadata": {
        "colab": {
          "base_uri": "https://localhost:8080/"
        },
        "id": "VgGa8MoUZNDd",
        "outputId": "ad2418cc-947a-4bf1-c784-c083f96fc42a"
      },
      "execution_count": 16,
      "outputs": [
        {
          "output_type": "stream",
          "name": "stdout",
          "text": [
            "CPU times: user 252 ms, sys: 3.84 ms, total: 256 ms\n",
            "Wall time: 253 ms\n"
          ]
        }
      ]
    },
    {
      "cell_type": "code",
      "source": [
        "for doc in retrieved_docs:\n",
        "    print(f\"id: {doc.metadata['_id']}\\n\")\n",
        "    print(f\"text: {doc.page_content[:256]}\\n\")\n",
        "    print(\"-\" * 80)\n",
        "    print()"
      ],
      "metadata": {
        "colab": {
          "base_uri": "https://localhost:8080/"
        },
        "id": "ZCGOw5VLZOlr",
        "outputId": "ccff755a-c241-43e2-af12-28131c9b9d00"
      },
      "execution_count": 17,
      "outputs": [
        {
          "output_type": "stream",
          "name": "stdout",
          "text": [
            "id: f368e9d017d84766bbfbf02f16fd0bf8\n",
            "\n",
            "text: About NVIDIA\n",
            "\n",
            "Since its founding in 1993, NVIDIA (NASDAQ: NVDA) has been a pioneer in accelerated computing. The company’s invention of the GPU in 1999 sparked the growth of the PC gaming market, redefined computer graphics, ignited the era of modern AI an\n",
            "\n",
            "--------------------------------------------------------------------------------\n",
            "\n",
            "id: f72bbdad030f4d6bb6fdaa0878659eb6\n",
            "\n",
            "text: Certain statements in this press release including, but not limited to, statements as to: the computer industry going through two simultaneous transitions – accelerated computing and generative AI; installed global data center infrastructure transitioning \n",
            "\n",
            "--------------------------------------------------------------------------------\n",
            "\n",
            "id: 33991772f37f4e47b961468e9783a328\n",
            "\n",
            "text: Highlights\n",
            "\n",
            "Data Center\n",
            "\n",
            "First-quarter revenue was a record $4.28 billion, up 14% from a year ago and up 18% from the previous quarter. Launched four inference platforms that combine the company’s full-stack inference software with the latest NVIDIA Ada, N\n",
            "\n",
            "--------------------------------------------------------------------------------\n",
            "\n",
            "id: 63a2125082b747d082a88722e09f70e0\n",
            "\n",
            "text: and are available from NVIDIA without charge. These forward-looking statements are not guarantees of future performance and speak only as of the date hereof, and, except as required by law, NVIDIA disclaims any obligation to update these forward-looking st\n",
            "\n",
            "--------------------------------------------------------------------------------\n",
            "\n",
            "id: fd23bcec11564c3495cdb8dbb956d83a\n",
            "\n",
            "text: Gaming\n",
            "\n",
            "First-quarter revenue was $2.24 billion, down 38% from a year ago and up 22% from the previous quarter. Announced the GeForce RTX™ 4060 family of GPUs, bringing the advancements of NVIDIA Ada Lovelace architecture and DLSS, starting at $299. Launch\n",
            "\n",
            "--------------------------------------------------------------------------------\n",
            "\n"
          ]
        }
      ]
    },
    {
      "cell_type": "code",
      "source": [
        "compressor = FlashrankRerank(model=\"ms-marco-MiniLM-L-12-v2\")\n",
        "compression_retriever = ContextualCompressionRetriever(\n",
        "    base_compressor=compressor, base_retriever=retriever\n",
        ")"
      ],
      "metadata": {
        "colab": {
          "base_uri": "https://localhost:8080/"
        },
        "id": "7jtfnZT1ZQU7",
        "outputId": "6edface8-c0e7-44a4-a06a-7d18d7c62942"
      },
      "execution_count": 18,
      "outputs": [
        {
          "output_type": "stream",
          "name": "stdout",
          "text": [
            "Downloading ms-marco-MiniLM-L-12-v2...\n"
          ]
        },
        {
          "output_type": "stream",
          "name": "stderr",
          "text": [
            "ms-marco-MiniLM-L-12-v2.zip: 100%|██████████| 21.6M/21.6M [00:00<00:00, 194MiB/s]\n"
          ]
        }
      ]
    },
    {
      "cell_type": "code",
      "source": [
        "%%time\n",
        "reranked_docs = compression_retriever.invoke(query)\n",
        "len(reranked_docs)"
      ],
      "metadata": {
        "colab": {
          "base_uri": "https://localhost:8080/"
        },
        "id": "TE-7sLGWZSaj",
        "outputId": "c1917567-d5a4-42bd-cf15-0d2204987847"
      },
      "execution_count": 19,
      "outputs": [
        {
          "output_type": "stream",
          "name": "stdout",
          "text": [
            "Running pairwise ranking..\n",
            "CPU times: user 2.13 s, sys: 118 ms, total: 2.24 s\n",
            "Wall time: 2.3 s\n"
          ]
        },
        {
          "output_type": "execute_result",
          "data": {
            "text/plain": [
              "3"
            ]
          },
          "metadata": {},
          "execution_count": 19
        }
      ]
    },
    {
      "cell_type": "code",
      "source": [
        "for doc in reranked_docs:\n",
        "    print(f\"id: {doc.metadata['_id']}\\n\")\n",
        "    print(f\"text: {doc.page_content[:256]}\\n\")\n",
        "    print(f\"score: {doc.metadata['relevance_score']}\")\n",
        "    print(\"-\" * 80)\n",
        "    print()"
      ],
      "metadata": {
        "colab": {
          "base_uri": "https://localhost:8080/"
        },
        "id": "RgZrRLXMZUEq",
        "outputId": "ab936cd8-e3b7-421a-90c1-7dfa2c961273"
      },
      "execution_count": 20,
      "outputs": [
        {
          "output_type": "stream",
          "name": "stdout",
          "text": [
            "id: f368e9d017d84766bbfbf02f16fd0bf8\n",
            "\n",
            "text: About NVIDIA\n",
            "\n",
            "Since its founding in 1993, NVIDIA (NASDAQ: NVDA) has been a pioneer in accelerated computing. The company’s invention of the GPU in 1999 sparked the growth of the PC gaming market, redefined computer graphics, ignited the era of modern AI an\n",
            "\n",
            "score: 0.9506653547286987\n",
            "--------------------------------------------------------------------------------\n",
            "\n",
            "id: f72bbdad030f4d6bb6fdaa0878659eb6\n",
            "\n",
            "text: Certain statements in this press release including, but not limited to, statements as to: the computer industry going through two simultaneous transitions – accelerated computing and generative AI; installed global data center infrastructure transitioning \n",
            "\n",
            "score: 0.2950722277164459\n",
            "--------------------------------------------------------------------------------\n",
            "\n",
            "id: 33991772f37f4e47b961468e9783a328\n",
            "\n",
            "text: Highlights\n",
            "\n",
            "Data Center\n",
            "\n",
            "First-quarter revenue was a record $4.28 billion, up 14% from a year ago and up 18% from the previous quarter. Launched four inference platforms that combine the company’s full-stack inference software with the latest NVIDIA Ada, N\n",
            "\n",
            "score: 0.02677389793097973\n",
            "--------------------------------------------------------------------------------\n",
            "\n"
          ]
        }
      ]
    },
    {
      "cell_type": "code",
      "source": [
        "llm = ChatGroq(temperature=0, model_name=\"llama3-70b-8192\")"
      ],
      "metadata": {
        "id": "ltvY8ycBZV5m"
      },
      "execution_count": 21,
      "outputs": []
    },
    {
      "cell_type": "code",
      "source": [
        "prompt_template = \"\"\"\n",
        "Use the following pieces of information to answer the user's question.\n",
        "If you don't know the answer, just say that you don't know, don't try to make up an answer.\n",
        "\n",
        "Context: {context}\n",
        "Question: {question}\n",
        "\n",
        "Answer the question and provide additional helpful information,\n",
        "based on the pieces of information, if applicable. Be succinct.\n",
        "\n",
        "Responses should be properly formatted to be easily read.\n",
        "\"\"\"\n",
        "\n",
        "prompt = PromptTemplate(\n",
        "    template=prompt_template, input_variables=[\"context\", \"question\"]\n",
        ")"
      ],
      "metadata": {
        "id": "Wi8DLuqhZYE1"
      },
      "execution_count": 22,
      "outputs": []
    },
    {
      "cell_type": "code",
      "source": [
        "qa = RetrievalQA.from_chain_type(\n",
        "    llm=llm,\n",
        "    chain_type=\"stuff\",\n",
        "    retriever=compression_retriever,\n",
        "    return_source_documents=True,\n",
        "    chain_type_kwargs={\"prompt\": prompt, \"verbose\": True},\n",
        ")"
      ],
      "metadata": {
        "id": "yIDrn9flZZZ_"
      },
      "execution_count": 23,
      "outputs": []
    },
    {
      "cell_type": "code",
      "source": [
        "%%time\n",
        "response = qa.invoke(\"What is the most significant innovation from Nvidia?\")"
      ],
      "metadata": {
        "colab": {
          "base_uri": "https://localhost:8080/"
        },
        "id": "umixvmMfZcix",
        "outputId": "3a0c515b-0de3-4a85-c38d-0febd4f3df51"
      },
      "execution_count": 24,
      "outputs": [
        {
          "output_type": "stream",
          "name": "stdout",
          "text": [
            "Running pairwise ranking..\n",
            "\n",
            "\n",
            "\u001b[1m> Entering new StuffDocumentsChain chain...\u001b[0m\n",
            "\n",
            "\n",
            "\u001b[1m> Entering new LLMChain chain...\u001b[0m\n",
            "Prompt after formatting:\n",
            "\u001b[32;1m\u001b[1;3m\n",
            "Use the following pieces of information to answer the user's question.\n",
            "If you don't know the answer, just say that you don't know, don't try to make up an answer.\n",
            "\n",
            "Context: About NVIDIA\n",
            "\n",
            "Since its founding in 1993, NVIDIA (NASDAQ: NVDA) has been a pioneer in accelerated computing. The company’s invention of the GPU in 1999 sparked the growth of the PC gaming market, redefined computer graphics, ignited the era of modern AI and is fueling the creation of the industrial metaverse. NVIDIA is now a full-stack computing company with data-center-scale offerings that are reshaping industry. More information at https://nvidianews.nvidia.com/.\n",
            "\n",
            "Certain statements in this press release including, but not limited to, statements as to: the computer industry going through two simultaneous transitions – accelerated computing and generative AI; installed global data center infrastructure transitioning from general purpose to accelerated computing as companies race to apply generative AI into every product, service and business process; NVIDIA’s entire data center family of products being in production; NVIDIA significantly increasing supply to meet surging demand; NVIDIA’s next quarterly cash dividend; NVIDIA’s financial outlook and expected tax rates for the second quarter of fiscal 2024; the benefits, impact, performance, features and availability of our products and technologies, including NVIDIA Ada, NVIDIA Hopper, NVIDIA Grace Hopper CPU, NVIDIA L4 Tensor Core GPU, NVIDIA AI Foundations, NVIDIA cuLitho software library, NVIDIA H100 Tensor Core GPU, NVIDIA AI Enterprise, GeForce RTX GPUs, DLSS 3, GeForce NOW, NVIDIA Omniverse Cloud, Omniverse, NVIDIA RTX GPUs, and NVIDIA DRIVE Orin; and the benefits and impact of our collaborations, including with Google Cloud, Amazon Web Services, Microsoft Azure, Oracle Cloud Infrastructure, ServiceNow, Medtronic, Dell Technologies, CD PROJEKT RED, Microsoft, and BYD are forward-looking statements that are subject to risks and uncertainties that could cause results to be materially different than expectations. Important factors that could cause actual results to differ materially include: global economic conditions; our reliance on third parties to manufacture, assemble, package and test our products; the impact of technological development and competition; development of new products and technologies or enhancements to our existing product and technologies; market acceptance of our products or our partners’ products; design, manufacturing or software defects; changes in consumer preferences or demands; changes in industry standards and interfaces; unexpected loss of performance of our products or technologies when\n",
            "\n",
            "Gaming\n",
            "\n",
            "First-quarter revenue was $2.24 billion, down 38% from a year ago and up 22% from the previous quarter. Announced the GeForce RTX™ 4060 family of GPUs, bringing the advancements of NVIDIA Ada Lovelace architecture and DLSS, starting at $299. Launched the GeForce RTX 4070 GPU based on the Ada architecture, which enables DLSS 3, real-time ray-tracing and the ability to run most modern games at over 100 frames per second at 1440p resolution. Added 36 DLSS gaming titles, bringing the total number of games and apps to 300. Made path tracing available for the first time on a major gaming title through collaboration with CD PROJEKT RED on an update to Cyberpunk 2077. Expanded GeForce NOW’s game titles to more than 1,600, including the first Microsoft Xbox game, Gears 5.\n",
            "\n",
            "Professional Visualization\n",
            "\n",
            "First-quarter revenue was $295 million, down 53% from a year ago and up 31% from the previous quarter. Announced NVIDIA Omniverse™ Cloud, a fully managed service running in Microsoft Azure, for the development and deployment of industrial metaverse applications. Expanded its collaboration with Microsoft to connect Microsoft 365 applications with Omniverse. Announced six new NVIDIA RTX™ GPUs for mobile and desktop workstations based on the Ada architecture.\n",
            "\n",
            "Automotive\n",
            "\n",
            "First-quarter revenue was a record $296 million, up 114% from a year ago and up 1% from the previous quarter. Announced that its automotive design win pipeline has grown to $14 billion over the next six years, up from $11 billion a year ago. Announced that the world’s leading electric vehicle maker BYD will extend its use of NVIDIA DRIVE Orin™ across new models.\n",
            "\n",
            "CFO Commentary\n",
            "\n",
            "Commentary on the quarter by Colette Kress, NVIDIA’s executive vice president and chief financial officer, is available at https://investor.nvidia.com/.\n",
            "\n",
            "Conference Call and Webcast Information\n",
            "Question: What is the most significant innovation from Nvidia?\n",
            "\n",
            "Answer the question and provide additional helpful information,\n",
            "based on the pieces of information, if applicable. Be succinct.\n",
            "\n",
            "Responses should be properly formatted to be easily read.\n",
            "\u001b[0m\n",
            "\n",
            "\u001b[1m> Finished chain.\u001b[0m\n",
            "\n",
            "\u001b[1m> Finished chain.\u001b[0m\n",
            "CPU times: user 2.33 s, sys: 93.2 ms, total: 2.43 s\n",
            "Wall time: 3.24 s\n"
          ]
        }
      ]
    },
    {
      "cell_type": "code",
      "source": [
        "print_response(response)"
      ],
      "metadata": {
        "colab": {
          "base_uri": "https://localhost:8080/"
        },
        "id": "08KnsxMAZeZe",
        "outputId": "442bc6f2-b65c-4fad-da9d-defb7d606c78"
      },
      "execution_count": 25,
      "outputs": [
        {
          "output_type": "stream",
          "name": "stdout",
          "text": [
            "**Answer:** The most significant innovation from NVIDIA is the invention of the GPU in 1999, which\n",
            "sparked the growth of the PC gaming market, redefined computer graphics, and ignited the era of\n",
            "modern AI.\n",
            "\n",
            "**Additional helpful information:**\n",
            "\n",
            "* NVIDIA's GPU innovation has led to the development of various products and technologies, including\n",
            "NVIDIA Ada, NVIDIA Hopper, NVIDIA Grace Hopper CPU, NVIDIA L4 Tensor Core GPU, and more.\n",
            "* These innovations have enabled significant advancements in gaming, professional visualization, and\n",
            "automotive industries.\n",
            "* NVIDIA's GPU technology has also fueled the creation of the industrial metaverse and is reshaping\n",
            "industries with its data-center-scale offerings.\n"
          ]
        }
      ]
    },
    {
      "cell_type": "code",
      "source": [
        "qa = RetrievalQA.from_chain_type(\n",
        "    llm=llm,\n",
        "    chain_type=\"stuff\",\n",
        "    retriever=compression_retriever,\n",
        "    return_source_documents=True,\n",
        "    chain_type_kwargs={\"prompt\": prompt, \"verbose\": False},\n",
        ")"
      ],
      "metadata": {
        "id": "pe6Fcll3ZgFn"
      },
      "execution_count": 26,
      "outputs": []
    },
    {
      "cell_type": "code",
      "source": [
        "%%time\n",
        "response = qa.invoke(\"What is the revenue for 2024 and % change?\")"
      ],
      "metadata": {
        "colab": {
          "base_uri": "https://localhost:8080/"
        },
        "id": "IfwfTxebZheg",
        "outputId": "7dd0b76b-49db-4753-b120-79a76ab04d57"
      },
      "execution_count": 27,
      "outputs": [
        {
          "output_type": "stream",
          "name": "stdout",
          "text": [
            "Running pairwise ranking..\n",
            "CPU times: user 1.92 s, sys: 141 ms, total: 2.06 s\n",
            "Wall time: 2.63 s\n"
          ]
        }
      ]
    },
    {
      "cell_type": "code",
      "source": [
        "Markdown(response[\"result\"])"
      ],
      "metadata": {
        "colab": {
          "base_uri": "https://localhost:8080/",
          "height": 181
        },
        "id": "Qh21afqkZjRi",
        "outputId": "1d3c3e71-4019-40dc-c65f-a2e2a0c68ef5"
      },
      "execution_count": 28,
      "outputs": [
        {
          "output_type": "execute_result",
          "data": {
            "text/plain": [
              "<IPython.core.display.Markdown object>"
            ],
            "text/markdown": "**Revenue for Q1 Fiscal 2024:**\n\n* Revenue: $7.19 billion\n* % change: Up 19% from previous quarter, Down 13% from a year ago\n\n**Additional helpful information:**\n\n* The company expects revenue to be $11.00 billion in the second quarter of fiscal 2024, which is a significant increase from the current quarter.\n* The record Data Center revenue of $4.28 billion contributed to the overall revenue growth."
          },
          "metadata": {},
          "execution_count": 28
        }
      ]
    },
    {
      "cell_type": "code",
      "source": [
        "%%time\n",
        "response = qa.invoke(\"What is the FY23?\")"
      ],
      "metadata": {
        "colab": {
          "base_uri": "https://localhost:8080/"
        },
        "id": "Ic6HStDMZkzJ",
        "outputId": "c9ae5b16-3000-4bd9-bb4f-3540291860e1"
      },
      "execution_count": 29,
      "outputs": [
        {
          "output_type": "stream",
          "name": "stdout",
          "text": [
            "Running pairwise ranking..\n",
            "CPU times: user 2.09 s, sys: 213 ms, total: 2.31 s\n",
            "Wall time: 2.8 s\n"
          ]
        }
      ]
    },
    {
      "cell_type": "code",
      "source": [
        "print_response(response)"
      ],
      "metadata": {
        "colab": {
          "base_uri": "https://localhost:8080/"
        },
        "id": "eqSYqiyaZnr5",
        "outputId": "d69e0211-03fc-4f1e-e6ec-6ee499f336e4"
      },
      "execution_count": 30,
      "outputs": [
        {
          "output_type": "stream",
          "name": "stdout",
          "text": [
            "**Answer:** FY23 refers to Fiscal Year 2023.\n",
            "\n",
            "**Additional helpful information:**\n",
            "\n",
            "* The company's fiscal year seems to end in January, as Q1 FY24 refers to the quarter ending April\n",
            "30, 2023, and Q4 FY23 refers to the quarter ending January 29, 2023.\n",
            "* The company's fiscal year is not aligned with the calendar year, which is common for many\n",
            "companies.\n"
          ]
        }
      ]
    },
    {
      "cell_type": "code",
      "source": [
        "%%time\n",
        "response = qa.invoke(\n",
        "    \"How much is the revenue minus the costs and expenses for 2024? Calculate the answer\"\n",
        ")"
      ],
      "metadata": {
        "colab": {
          "base_uri": "https://localhost:8080/"
        },
        "id": "68RkvVN_ZqMM",
        "outputId": "fb087fd0-a223-4d24-c8cd-fabd8aec12a6"
      },
      "execution_count": 31,
      "outputs": [
        {
          "output_type": "stream",
          "name": "stdout",
          "text": [
            "Running pairwise ranking..\n",
            "CPU times: user 2.01 s, sys: 123 ms, total: 2.13 s\n",
            "Wall time: 3.05 s\n"
          ]
        }
      ]
    },
    {
      "cell_type": "code",
      "source": [
        "print_response(response)"
      ],
      "metadata": {
        "colab": {
          "base_uri": "https://localhost:8080/"
        },
        "id": "3_f1lzNaZsXy",
        "outputId": "ac7c2b65-60d2-4057-caf2-aa5018734aea"
      },
      "execution_count": 32,
      "outputs": [
        {
          "output_type": "stream",
          "name": "stdout",
          "text": [
            "To calculate the revenue minus the costs and expenses for 2024, we need to look at the outlook for\n",
            "Q2 FY2024.\n",
            "\n",
            "Revenue is expected to be $11.00 billion.\n",
            "\n",
            "Operating expenses are expected to be approximately $1.90 billion (non-GAAP).\n",
            "\n",
            "Gross margin is expected to be 70.0% (non-GAAP), which means the cost of goods sold is expected to\n",
            "be 30.0% of revenue, or $3.30 billion.\n",
            "\n",
            "Therefore, the revenue minus the costs and expenses for 2024 is:\n",
            "\n",
            "$11.00 billion (revenue) - $3.30 billion (cost of goods sold) - $1.90 billion (operating expenses) =\n",
            "$5.80 billion\n",
            "\n",
            "Additional helpful information:\n",
            "\n",
            "* The non-GAAP operating income is expected to be $5.80 billion, which is the same as the revenue\n",
            "minus the costs and expenses calculated above.\n",
            "* The non-GAAP net income is not provided in the outlook, but it would be the operating income minus\n",
            "other income and expense, and minus taxes.\n"
          ]
        }
      ]
    },
    {
      "cell_type": "code",
      "source": [
        "%%time\n",
        "response = qa.invoke(\"compare the Gross profit from 2022 and 2023?\")"
      ],
      "metadata": {
        "colab": {
          "base_uri": "https://localhost:8080/"
        },
        "id": "L-3HqIrDZtag",
        "outputId": "6c7eb465-63b0-4e07-c9d7-e8eae0825290"
      },
      "execution_count": 33,
      "outputs": [
        {
          "output_type": "stream",
          "name": "stdout",
          "text": [
            "Running pairwise ranking..\n",
            "CPU times: user 2.01 s, sys: 125 ms, total: 2.14 s\n",
            "Wall time: 3.08 s\n"
          ]
        }
      ]
    },
    {
      "cell_type": "code",
      "source": [
        "Markdown(response[\"result\"])"
      ],
      "metadata": {
        "colab": {
          "base_uri": "https://localhost:8080/",
          "height": 195
        },
        "id": "ZYLBGDxqZwQF",
        "outputId": "e2e7ede4-e025-4b43-b698-9b76cba14f11"
      },
      "execution_count": 34,
      "outputs": [
        {
          "output_type": "execute_result",
          "data": {
            "text/plain": [
              "<IPython.core.display.Markdown object>"
            ],
            "text/markdown": "**Comparison of Gross Profit between 2022 and 2023:**\n\nThe GAAP gross profit for the three months ended April 30, 2023, was $4,648 million, compared to $5,431 million for the three months ended May 1, 2022. This represents a decrease of $783 million or 14.4% year-over-year.\n\n**Additional Helpful Information:**\n\n* The GAAP gross margin for the three months ended April 30, 2023, was 64.6%, compared to 65.5% for the three months ended May 1, 2022.\n* The non-GAAP gross profit for the three months ended April 30, 2023, was $4,802 million, compared to $5,563 million for the three months ended May 1, 2022. This represents a decrease of $761 million or 13.7% year-over-year.\n* The non-GAAP gross margin for the three months ended April 30, 2023, was 66.8%, compared to 67.1% for the three months ended May 1, 2022."
          },
          "metadata": {},
          "execution_count": 34
        }
      ]
    },
    {
      "cell_type": "code",
      "source": [
        "%%time\n",
        "response = qa.invoke(\"what is the share holding of board of directors Mr. P Arulsundaram\")"
      ],
      "metadata": {
        "colab": {
          "base_uri": "https://localhost:8080/"
        },
        "id": "RcCTR-O9Zyk8",
        "outputId": "8a781c81-0017-429d-ce06-b6d42745e482"
      },
      "execution_count": 35,
      "outputs": [
        {
          "output_type": "stream",
          "name": "stdout",
          "text": [
            "Running pairwise ranking..\n",
            "CPU times: user 2.09 s, sys: 115 ms, total: 2.21 s\n",
            "Wall time: 3.09 s\n"
          ]
        }
      ]
    },
    {
      "cell_type": "code",
      "source": [
        "Markdown(response[\"result\"])"
      ],
      "metadata": {
        "colab": {
          "base_uri": "https://localhost:8080/",
          "height": 211
        },
        "id": "ep93YnCyaAh-",
        "outputId": "6c1dec38-80be-48a9-e9dd-9a51eafd25c2"
      },
      "execution_count": 36,
      "outputs": [
        {
          "output_type": "execute_result",
          "data": {
            "text/plain": [
              "<IPython.core.display.Markdown object>"
            ],
            "text/markdown": "I don't know the answer to the question about the share holding of the board of directors Mr. P Arulsundaram, as this information is not provided in the given financial statements and reports.\n\nHowever, I can provide some additional information that might be helpful:\n\n* The weighted average shares used in per share computation are 2,470 (Basic) and 2,490 (Diluted) for the current period, and 2,506 (Basic) and 2,537 (Diluted) for the prior period.\n* The company has a significant amount of cash, cash equivalents, and marketable securities, with a total of $15,320 million as of April 30, 2023.\n* The company's revenue for the current period is $7,192 million, with a gross margin of 66.8% and an operating income of $3,052 million.\n* The company's outlook for the second quarter of fiscal 2024 includes revenue of $11.00 billion, plus or minus 2%, and GAAP and non-GAAP gross margins of 68.6% and 70.0%, respectively."
          },
          "metadata": {},
          "execution_count": 36
        }
      ]
    }
  ]
}